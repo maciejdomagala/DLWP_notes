{
 "cells": [
  {
   "cell_type": "code",
   "execution_count": 27,
   "metadata": {},
   "outputs": [
    {
     "data": {
      "text/plain": [
       "<matplotlib.collections.PathCollection at 0x260763db898>"
      ]
     },
     "execution_count": 27,
     "metadata": {},
     "output_type": "execute_result"
    },
    {
     "data": {
      "image/png": "iVBORw0KGgoAAAANSUhEUgAAAXAAAAD4CAYAAAD1jb0+AAAABHNCSVQICAgIfAhkiAAAAAlwSFlzAAALEgAACxIB0t1+/AAAADh0RVh0U29mdHdhcmUAbWF0cGxvdGxpYiB2ZXJzaW9uMy4yLjEsIGh0dHA6Ly9tYXRwbG90bGliLm9yZy+j8jraAAARGklEQVR4nO3dXWycWX3H8e+/ThDDAnLSdaLES5tSRa4QEWtqIVoqRBsWA62IG2kRSEhptVK4aCvohUvSG+hFlaimFb1CSoHKbSntlmadFa0waVpEkaoFZ72QheCG0mVZO03Mbs1LGUEI/1748W7iteMZZ96O8/1I1jPP8bz8NBr9ND5z5jgyE0lSeX6q2wEkSZtjgUtSoSxwSSqUBS5JhbLAJalQ2zr5YHfffXfu27evkw8pScU7f/78tzNzYPV4Rwt83759zMzMdPIhJal4EfHNtcadQpGkQlngklQoC1ySCmWBS1KhLHBJKlRHV6FI0p1manaeiek5Fpbq7O2vMT46xNjwYEvu2wKXpDaZmp3n+OkL1K9dB2B+qc7x0xcAWlLiTqFIUptMTM89W94r6teuMzE915L7t8AlqU0WlupNjTfLApekNtnbX2tqvFkWuCS1yfjoELXtfTeN1bb3MT461JL7b6jAI+L3I+IrEfF4RHwiIl4YETsj4mxEXKqOO1qSSJK2iLHhQU4cPsBgf40ABvtrnDh8oGWrUGKj/4kZEYPA54FXZGY9Ih4E/hl4BfBMZp6MiGPAjsx8363ua2RkJN3MSpKaExHnM3Nk9XijUyjbgFpEbANeBCwAh4DJ6veTwFgrgkqSGrNhgWfmPPBB4EngMvCdzPwMsDszL1fXuQzsWuv2EXE0ImYiYmZxcbF1ySXpDrdhgVdz24eAnwP2AndFxLsafYDMPJWZI5k5MjDwvP3IJUmb1MgUyhuB/87Mxcy8BpwGfhm4EhF7AKrj1fbFlCSt1kiBPwm8NiJeFBEBHAQuAg8DR6rrHAHOtCeiJGktG+6FkpmPRMQngUeBHwOzwCngxcCDEfEAyyV/fzuDSpJu1tBmVpn5fuD9q4Z/yPK7cUlSF/hNTEkqlAUuSYWywCWpUBa4JBXKApekQlngklQoC1ySCmWBS1KhLHBJKpQFLkmFssAlqVAWuCQVygKXpEJZ4JJUKAtckgplgUtSoSxwSSqUBS5JhbLAJalQFrgkFcoCl6RCWeCSVCgLXJIKZYFLUqE2LPCIGIqIx274+W5EvDcidkbE2Yi4VB13dCKwJGnZhgWemXOZeW9m3gv8IvAD4CHgGHAuM/cD56pzSVKHNDuFchD4r8z8JnAImKzGJ4GxVgaTJN1aswX+DuAT1eXdmXkZoDruWusGEXE0ImYiYmZxcXHzSSVJN2m4wCPiBcDbgH9o5gEy81RmjmTmyMDAQLP5JEnraOYd+FuARzPzSnV+JSL2AFTHq60OJ0la37YmrvtOnps+AXgYOAKcrI5nWphLUsGmZueZmJ5jYanO3v4a46NDjA0PdjvWltNQgUfEi4D7gHffMHwSeDAiHgCeBO5vfTxJpZmanef46QvUr10HYH6pzvHTFwAs8RZraAolM3+QmT+dmd+5YezpzDyYmfur4zPtiympFBPTc8+W94r6tetMTM91KdHW5TcxJbXUwlK9qXFtngUuqaX29teaGtfmWeCSWmp8dIja9r6bxmrb+xgfHepSoq2rmVUokrShlQ8qXYXSfha4pJYbGx60sDvAKRRJKpQFLkmFssAlqVAWuCQVygKXpEJZ4JJUKAtckgplgUtSoSxwSSqUBS5JhbLAJalQFrgkFcoCl6RCWeCSVCgLXJIKZYFLUqEscEkqlAUuSYXyX6pJDZianfd/PKrnNPQOPCL6I+KTEfG1iLgYEb8UETsj4mxEXKqOO9odVuqGqdl5jp++wPxSnQTml+ocP32Bqdn5bkfTHa7RKZQ/Bz6dmb8AvAq4CBwDzmXmfuBcdS5tORPTc9SvXb9prH7tOhPTc11KJC3bsMAj4qXA64GPAmTmjzJzCTgETFZXmwTG2hVS6qaFpXpT41KnNPIO/OXAIvCXETEbER+JiLuA3Zl5GaA67lrrxhFxNCJmImJmcXGxZcGlTtnbX2tqXOqURgp8G/Bq4MOZOQz8H01Ml2TmqcwcycyRgYGBTcaUumd8dIja9r6bxmrb+xgfHepSImlZIwX+FPBUZj5SnX+S5UK/EhF7AKrj1fZElLprbHiQE4cPMNhfI4DB/honDh9wFYq6bsNlhJn5PxHxrYgYysw54CDw1ernCHCyOp5pa1Kpi8aGB1tW2C5JVKs0ug7894CPR8QLgG8Av83yu/cHI+IB4Eng/vZElLaOlSWJK6taVpYkApa4mtZQgWfmY8DIGr862No40tZ2qyWJFria5VfppQ5ySaJayQKXOsgliWolC1zqIJckqpXczEpbVi+u9lh5/F7LpTJZ4NqSenm1RyuXJOrOZoFrS+rGao9efMevrc0C15bU6dUevfyOX1uXH2JqS+r0ag+3nFU3WODakjq92sP13eoGC1xbUqc3oHJ9t7rBOXBtWZ1c7TE+OnTTHDi4vlvtZ4FLLeD6bnWDBS61iOu71WnOgUtSoSxwSSqUBS5JhbLAJalQFrgkFcoCl6RCWeCSVCgLXJIKZYFLUqEscEkqlAUuSYVqaC+UiHgC+B5wHfhxZo5ExE7g74F9wBPA2zPzf9sTU5K0WjPvwH81M+/NzJHq/BhwLjP3A+eqc0lSh9zOFMohYLK6PAmM3X4cSVKjGi3wBD4TEecj4mg1tjszLwNUx11r3TAijkbETETMLC4u3n5iSRLQ+H7gr8vMhYjYBZyNiK81+gCZeQo4BTAyMpKbyKgtYGp23n92ILVYQwWemQvV8WpEPAS8BrgSEXsy83JE7AGutjGnuqBVpTs1O3/TvxubX6pz/PQFAEtcug0bTqFExF0R8ZKVy8CbgMeBh4Ej1dWOAGfaFVKdt1K680t1kudKd2p2vun7mpieu+l/RQLUr11nYnquRWmlO1Mjc+C7gc9HxJeALwD/lJmfBk4C90XEJeC+6lxbRCtLd2Gp3tS4pMZsOIWSmd8AXrXG+NPAwXaEUve1snT39teYX+N2e/trTd+XpOf4TUytab1y3Uzpjo8OUdved9NYbXsf46NDm8omaZkFrjW1snTHhgc5cfgAg/01Ahjsr3Hi8AE/wJRuU6PLCHWHWSnXVi39GxsetLClFrPAtS5LV+ptTqFIUqEscEkqlAUuSYWywCWpUBa4JBXKApekQlngklQoC1ySCmWBS1KhLHBJKpQFLkmFssAlqVAWuCQVygKXpEJZ4JJUKAtckgplgUtSoSxwSSqUBS5JhbLAJalQDRd4RPRFxGxEfKo63xkRZyPiUnXc0b6YkqTVmnkH/h7g4g3nx4BzmbkfOFedS5I6pKECj4h7gF8HPnLD8CFgsro8CYy1Npok6VYafQf+IeAPgJ/cMLY7My8DVMdda90wIo5GxExEzCwuLt5WWEnSczYs8Ij4DeBqZp7fzANk5qnMHMnMkYGBgc3chSRpDdsauM7rgLdFxFuBFwIvjYi/Aa5ExJ7MvBwRe4Cr7QwqSbrZhu/AM/N4Zt6TmfuAdwD/mpnvAh4GjlRXOwKcaVtKSdLz3M468JPAfRFxCbivOpckdUgjUyjPyszPAp+tLj8NHGx9JElSI/wmpiQVygKXpEJZ4JJUKAtckgplgUtSoZpahaJbm5qdZ2J6joWlOnv7a4yPDjE2PNjtWJK2KAu8RaZm5zl++gL1a9cBmF+qc/z0BQBLXFJbOIXSIhPTc8+W94r6tetMTM91KZGkrc4Cb5GFpXpT45J0uyzwFtnbX2tqXJJulwXeIuOjQ9S29900Vtvex/joUJcSSdrq/BCzRVY+qGznKhRXuUi6kQXeQmPDg20rVFe5SFrNKZRCuMpF0moWeCFc5SJpNQu8EK5ykbSaBV4IV7lIWs0PMQvRiVUukspigReknatcJJXHKRRJKpQFLkmFssAlqVAWuCQVygKXpEJtWOAR8cKI+EJEfCkivhIRf1SN74yIsxFxqTruaH9cSdKKRt6B/xD4tcx8FXAv8OaIeC1wDDiXmfuBc9W5JKlDNizwXPb96nR79ZPAIWCyGp8ExtqSUJK0pobmwCOiLyIeA64CZzPzEWB3Zl4GqI671rnt0YiYiYiZxcXFVuWWpDteQwWemdcz817gHuA1EfHKRh8gM09l5khmjgwMDGw2pyRplaZWoWTmEvBZ4M3AlYjYA1Adr7Y8nSRpXY2sQhmIiP7qcg14I/A14GHgSHW1I8CZdoWUJD1fI5tZ7QEmI6KP5cJ/MDM/FRH/ATwYEQ8ATwL3tzGnJGmVDQs8M78MDK8x/jRwsB2hJEkb85uYklQoC1ySCmWBS1KhLHBJKpQFLkmFssAlqVAWuCQVygKXpEJZ4JJUKAtckgplgUtSoSxwSSqUBS5JhbLAJalQFrgkFcoCl6RCWeCSVCgLXJIK1cj/xOyqqdl5JqbnWFiqs7e/xvjoEGPDg92OJUld19MFPjU7z/HTF6hfuw7A/FKd46cvAFjiku54PT2FMjE992x5r6hfu87E9FyXEklS7+jpAl9Yqjc1Lkl3kp4u8L39tabGJelO0tMFPj46RG17301jte19jI8OdSmRJPWODQs8Il4WEf8WERcj4isR8Z5qfGdEnI2IS9VxR6vDjQ0PcuLwAQb7awQw2F/jxOEDfoApSUBk5q2vELEH2JOZj0bES4DzwBjwW8AzmXkyIo4BOzLzfbe6r5GRkZyZmWlNckm6Q0TE+cwcWT2+4TvwzLycmY9Wl78HXAQGgUPAZHW1SZZLXZLUIU3NgUfEPmAYeATYnZmXYbnkgV3r3OZoRMxExMzi4uLtpZUkPavhAo+IFwP/CLw3M7/b6O0y81RmjmTmyMDAwGYySpLW0FCBR8R2lsv745l5uhq+Us2Pr8yTX21PREnSWhpZhRLAR4GLmflnN/zqYeBIdfkIcKb18SRJ62lkFcqvAP8OXAB+Ug3/Icvz4A8CPwM8Cdyfmc9scF+LwDfX+NXdwLebSt47Ss4OZecvOTuUnb/k7FBe/p/NzOfNQW9Y4J0QETNrLZEpQcnZoez8JWeHsvOXnB3Kz7+ip7+JKUlanwUuSYXqlQI/1e0At6Hk7FB2/pKzQ9n5S84O5ecHemQOXJLUvF55By5JapIFLkmF6okCj4gPRMR8RDxW/by125kaERFvjoi5iPh6tSNjMSLiiYi4UD3fPb9FZER8LCKuRsTjN4y1fUvjVlknfxGv+25uKX27bpG9iOd+Iz0xBx4RHwC+n5kf7HaWRkVEH/CfwH3AU8AXgXdm5le7GqxBEfEEMJKZRXyZISJeD3wf+KvMfGU19ic0uaVxt6yT/wMU8Lpv5ZbSnXaL7G+ngOd+Iz3xDrxQrwG+npnfyMwfAX/H8ha7aoPM/Byw+pu+xWxpvE7+IpS8pfQtsm8JvVTgvxsRX67+1Oy5P8XWMAh864bzpyjrhZHAZyLifEQc7XaYTWpoS+MeV9TrfjNbSveKVdmhsOd+LR0r8Ij4l4h4fI2fQ8CHgZ8H7gUuA3/aqVy3IdYY6/58VONel5mvBt4C/E71J746q6jX/Wa3lO4Fa2Qv6rlfz7ZOPVBmvrGR60XEXwCfanOcVngKeNkN5/cAC13K0rTMXKiOVyPiIZanhD7X3VRNuxIRezLzcolbGmfmlZXLvf66v9WW0r3+/K+VvaTn/lZ6YgplZV/xym8Cj6933R7yRWB/RPxcRLwAeAfLW+z2vIi4q/pAh4i4C3gTZTznqxW9pXEpr/uSt5ReL3spz/1GemUVyl+z/KdMAk8A716ZW+tl1dKjDwF9wMcy84+7HKkhEfFy4KHqdBvwt72ePSI+AbyB5W1ArwDvB6Zockvjblkn/xso4HXfyi2lO+0W2d9JAc/9RnqiwCVJzeuJKRRJUvMscEkqlAUuSYWywCWpUBa4JBXKApekQlngklSo/wfepCa9emioYwAAAABJRU5ErkJggg==\n",
      "text/plain": [
       "<Figure size 432x288 with 1 Axes>"
      ]
     },
     "metadata": {
      "needs_background": "light"
     },
     "output_type": "display_data"
    }
   ],
   "source": [
    "import torch\n",
    "\n",
    "#magic function, plots will be visible in the notebook\n",
    "%matplotlib inline\n",
    "\n",
    "import matplotlib.pyplot as plt\n",
    "\n",
    "#statement of the problem:\n",
    "#we want to find the correlation between temperatures t_c and t_u. To be exact, we want to find the \n",
    "#transformation (possibly linear) that is needed to convert temp. units (t_u) to t_c.\n",
    "\n",
    "# temperature data\n",
    "t_c = [0.5, 14.0, 15.0, 28.0, 11.0, 8.0, 3.0, -4.0, 6.0, 13.0, 21.0]\n",
    "t_u = [35.7, 55.9, 58.2, 81.9, 56.3, 48.9, 33.9, 21.8, 48.4, 60.4, 68.4]\n",
    "t_c = torch.tensor(t_c)\n",
    "t_u = torch.tensor(t_u)\n",
    "\n",
    "plt.scatter(t_c, t_u)\n"
   ]
  },
  {
   "cell_type": "code",
<<<<<<< HEAD
   "execution_count": 90,
   "metadata": {},
   "outputs": [
    {
=======
   "execution_count": 40,
   "metadata": {},
   "outputs": [
    {
     "name": "stdout",
     "output_type": "stream",
     "text": [
      "torch.Size([])\n",
      "torch.FloatTensor\n",
      "tensor(1.)\n",
      "torch.Size([])\n",
      "torch.Size([])\n"
     ]
    },
    {
>>>>>>> 999414a31fdc6b83df1c22b2c80e5e6ec181f391
     "data": {
      "text/plain": [
       "tensor(1763.8846)"
      ]
     },
<<<<<<< HEAD
     "execution_count": 90,
=======
     "execution_count": 40,
>>>>>>> 999414a31fdc6b83df1c22b2c80e5e6ec181f391
     "metadata": {},
     "output_type": "execute_result"
    }
   ],
   "source": [
    "# proceeding with the linear type of model (essentially defining linear regression from scratch)\n",
    "\n",
    "#approach: we want to create a linear function that converts t_u to values t_p. t_p are meant\n",
    "#to be the values as close to t_c as possible. w - weights, b - bias (y = w*x + b).\n",
    "\n",
    "def model(t_u, w, b):\n",
    "    return w * t_u + b\n",
    "\n",
    "# we are applying the L2 kind of loss (MSE). More robust for outliers, penalizes very wrong results more that L1 metric.\n",
    "\n",
    "def loss(t_p, t_c):\n",
    "    loss = (t_p - t_c)**2\n",
    "    return loss.mean()\n",
    "\n",
    "#test\n",
    "# test_c = torch.tensor([2], dtype = float)\n",
    "# test_p = torch.tensor([1], dtype = float)\n",
    "\n",
    "# print(loss(test_c, test_p))\n",
    "\n",
    "# w and b initializing\n",
    "w = torch.ones(())\n",
    "b = torch.zeros(())\n",
    "\n",
<<<<<<< HEAD
=======
    "print(w.shape)\n",
    "print(w.type())\n",
    "print(w)\n",
    "print(w.size())\n",
    "\n",
>>>>>>> 999414a31fdc6b83df1c22b2c80e5e6ec181f391
    "# calculating t_p for earlier defined t_u\n",
    "\n",
    "t_p = model(t_u, w, b)\n",
    "loss(t_p, t_c)\n"
   ]
  },
  {
   "cell_type": "code",
<<<<<<< HEAD
   "execution_count": 84,
=======
   "execution_count": 76,
>>>>>>> 999414a31fdc6b83df1c22b2c80e5e6ec181f391
   "metadata": {},
   "outputs": [
    {
     "name": "stdout",
     "output_type": "stream",
     "text": [
<<<<<<< HEAD
      "Shapes of the tensors: x - torch.Size([]), y - torch.Size([3, 1, 1, 1, 1]))\n",
      "Shapes of the tensors: z - torch.Size([1, 3]), a - torch.Size([2, 1, 1]))\n",
      "Shapes of the tensors: y*a - torch.Size([3, 1, 2, 1, 1])\n",
      "Shapes of the tensors: a*z - torch.Size([2, 1, 3])\n",
      "Shapes of the tensors: y*a*z - torch.Size([3, 1, 2, 1, 3])\n"
=======
      "tensor([[[[[1., 1.],\n",
      "           [1., 1.],\n",
      "           [1., 1.]]]],\n",
      "\n",
      "\n",
      "\n",
      "        [[[[1., 1.],\n",
      "           [1., 1.],\n",
      "           [1., 1.]]]],\n",
      "\n",
      "\n",
      "\n",
      "        [[[[1., 1.],\n",
      "           [1., 1.],\n",
      "           [1., 1.]]]]])\n",
      "torch.Size([3, 1, 1, 3, 2])\n",
      "Shapes of the tensors: x - torch.Size([]), y - torch.Size([3, 1, 1, 1, 1]))\n",
      "Shapes of the tensors: z - torch.Size([1, 3]), a - torch.Size([2, 1, 1]))\n",
      "tensor([[[[[1.]]]],\n",
      "\n",
      "\n",
      "\n",
      "        [[[[1.]]]],\n",
      "\n",
      "\n",
      "\n",
      "        [[[[1.]]]]])\n",
      "tensor([[[1.]],\n",
      "\n",
      "        [[1.]]])\n",
      "tensor([[[[[1.]],\n",
      "\n",
      "          [[1.]]]],\n",
      "\n",
      "\n",
      "\n",
      "        [[[[1.]],\n",
      "\n",
      "          [[1.]]]],\n",
      "\n",
      "\n",
      "\n",
      "        [[[[1.]],\n",
      "\n",
      "          [[1.]]]]])\n",
      "Shapes of the tensors: y*a - torch.Size([3, 1, 2, 1, 1])\n",
      "Shapes of the tensors: a*z - torch.Size([2, 1, 3])\n",
      "Shapes of the tensors: y*a*z - torch.Size([3, 1, 2, 1, 3])\n",
      "tensor([[[[[1., 1., 1.]],\n",
      "\n",
      "          [[1., 1., 1.]]]],\n",
      "\n",
      "\n",
      "\n",
      "        [[[[1., 1., 1.]],\n",
      "\n",
      "          [[1., 1., 1.]]]],\n",
      "\n",
      "\n",
      "\n",
      "        [[[[1., 1., 1.]],\n",
      "\n",
      "          [[1., 1., 1.]]]]])\n"
>>>>>>> 999414a31fdc6b83df1c22b2c80e5e6ec181f391
     ]
    }
   ],
   "source": [
    "# BROADCASTING\n",
    "# pytorch functionality that allow us to perform operations of tensors that are not necessarily of the same size/shape.\n",
    "\n",
    "x = torch.ones(())\n",
    "y = torch.ones(3,1,1,1,1)\n",
    "z = torch.ones(1,3)\n",
    "a = torch.ones(2,1,1)\n",
<<<<<<< HEAD
    "\n",
    "print(f\"Shapes of the tensors: x - {x.shape}, y - {y.shape})\")\n",
    "print(f\"Shapes of the tensors: z - {z.shape}, a - {a.shape})\")\n",
    "print(f\"Shapes of the tensors: y*a - {(y*a).shape}\")\n",
    "print(f\"Shapes of the tensors: a*z - {(a*z).shape}\")\n",
    "print(f\"Shapes of the tensors: y*a*z - {(y*a*z).shape}\")\n"
=======
    "f = torch.ones(3,2)\n",
    "\n",
    "print(y*f)\n",
    "print((y*f).shape)\n",
    "\n",
    "print(f\"Shapes of the tensors: x - {x.shape}, y - {y.shape})\")\n",
    "print(f\"Shapes of the tensors: z - {z.shape}, a - {a.shape})\")\n",
    "\n",
    "print(y)\n",
    "print(a)\n",
    "print(y*a)\n",
    "\n",
    "print(f\"Shapes of the tensors: y*a - {(y*a).shape}\")\n",
    "print(f\"Shapes of the tensors: a*z - {(a*z).shape}\")\n",
    "print(f\"Shapes of the tensors: y*a*z - {(y*a*z).shape}\")\n",
    "print(y*a*z)"
>>>>>>> 999414a31fdc6b83df1c22b2c80e5e6ec181f391
   ]
  },
  {
   "cell_type": "code",
   "execution_count": 83,
   "metadata": {},
   "outputs": [
    {
     "name": "stdout",
     "output_type": "stream",
     "text": [
      "tensor([35.7000, 55.9000, 58.2000, 81.9000, 56.3000, 48.9000, 33.9000, 21.8000,\n",
      "        48.4000, 60.4000, 68.4000])\n",
      "tensor(51.8000)\n",
      "tensor([1.0000, 1.0000, 1.0000, 1.0000, 1.0000, 1.0000, 1.0000, 1.0000, 1.0000,\n",
      "        1.0000, 1.0000])\n",
      "tensor(1.0000)\n"
     ]
    }
   ],
   "source": [
    "# rate of change calculating\n",
    "\n",
    "delta = 0.1\n",
    "loss_rate_of_change_w = (model(t_u, w + delta, b) - model(t_u, w - delta, b))/(2*delta)\n",
    "print(loss_rate_of_change_w)\n",
    "print(loss_rate_of_change_w.mean())\n",
    "\n",
    "#same calculating for the b parameter\n",
    "loss_rate_of_change_b = (model(t_u, w, b + delta) - model(t_u, w, b - delta))/(2*delta)\n",
    "print(loss_rate_of_change_b)\n",
    "print(loss_rate_of_change_b.mean())"
   ]
  },
  {
   "cell_type": "code",
<<<<<<< HEAD
   "execution_count": 103,
   "metadata": {},
   "outputs": [
    {
     "data": {
      "text/plain": [
       "tensor([4517.2969,   82.6000])"
      ]
     },
     "execution_count": 103,
     "metadata": {},
     "output_type": "execute_result"
    }
   ],
=======
   "execution_count": null,
   "metadata": {},
   "outputs": [],
>>>>>>> 999414a31fdc6b83df1c22b2c80e5e6ec181f391
   "source": [
    "#derivatives for the gradient descent\n",
    "\n",
    "#first, derivative of the loss function (which is a quadratic function, MSE)\n",
    "#remembering that t_p is the the variable here\n",
    "def dloss(t_p, t_c):\n",
    "    dloss = 2*(t_p - t_c)\n",
<<<<<<< HEAD
    "    return dloss / t_p.size(0) #division necessary to address the mean calculation from the model\n",
=======
    "    return dloss / t_p.size() #division necessary to address the mean calculation from the model\n",
>>>>>>> 999414a31fdc6b83df1c22b2c80e5e6ec181f391
    "\n",
    "#second, derivative of the model function (linear)\n",
    "\n",
    "#two variables here, w and b, so two functions\n",
    "def dmodel_dw(t_u, w, b):\n",
    "    return t_u\n",
    "\n",
    "def dmodel_db(t_u, w, b):\n",
    "    return 1.0\n",
    "\n",
<<<<<<< HEAD
    "#calculating the whole gradient in the one function (the loss function derivative in regard to w and b parameters)\n",
    "def grad(t_u, t_c, t_p, w, b):\n",
    "    dloss_dtp = dloss(t_p, t_c)\n",
    "    \n",
    "    #chain rule\n",
    "    dloss_dw = dloss_dtp * dmodel_dw(t_u, w ,b)\n",
    "    dloss_db = dloss_dtp * dmodel_db(t_u, w ,b)\n",
    "    \n",
    "    return torch.stack([dloss_dw.sum(), dloss_db.sum()])\n",
    "    \n",
    "grad(t_u, t_c, t_p, w, b)"
   ]
  },
  {
   "cell_type": "code",
   "execution_count": 159,
   "metadata": {},
   "outputs": [
    {
     "name": "stdout",
     "output_type": "stream",
     "text": [
      "Epoch: 1, Loss value: 1763.8846435546875\n",
      "Params values: w = -44.17296600341797, b = -0.8259999752044678\n",
      "Gradient value: tensor([4517.2969,   82.6000])\n",
      "Epoch: 2, Loss value: 5802485.5\n",
      "Params values: w = 2568.4013671875, b = 45.16371154785156\n",
      "Gradient value: tensor([-261257.4219,   -4598.9712])\n",
      "Epoch: 3, Loss value: 19408035840.0\n",
      "Params values: w = -148527.734375, b = -2616.393310546875\n",
      "Gradient value: tensor([15109614.0000,   266155.7188])\n",
      "Epoch: 13, Loss value: inf\n",
      "Params values: w = -6.218085327793313e+22, b = -1.0953026620805014e+21\n",
      "Gradient value: tensor([6.3256e+24, 1.1142e+23])\n",
      "Epoch: 14, Loss value: inf\n",
      "Params values: w = 3.5961806514938787e+24, b = 6.334596602673127e+22\n",
      "Gradient value: tensor([-3.6584e+26, -6.4441e+24])\n",
      "Epoch: 15, Loss value: inf\n",
      "Params values: w = -2.0798228017110418e+26, b = -3.6635645899825066e+24\n",
      "Gradient value: tensor([2.1158e+28, 3.7269e+26])\n"
     ]
    },
    {
     "data": {
      "text/plain": [
       "tensor([-2.0798e+26, -3.6636e+24])"
      ]
     },
     "execution_count": 159,
     "metadata": {},
     "output_type": "execute_result"
    }
   ],
   "source": [
    "#creating the whole training loop (iterating the gradient calculation and applying it to the model parameters)\n",
    "\n",
    "def training_loop(n_epochs, learning_rate, model_params, t_u, t_c, do_print = True):\n",
    "    \n",
    "    for i in range(1, n_epochs+1):\n",
    "        w, b = model_params\n",
    "        t_p = model(t_u, w, b) #first, model value\n",
    "        model_loss = loss(t_p, t_c) #second, loss value, to print it and look if it is going down\n",
    "        grad_value = grad(t_u, t_c, t_p, w, b) #third, gradient calculation\n",
    "        \n",
    "        model_params = model_params - learning_rate * grad_value #fourth, update the parameters\n",
    "        \n",
    "        if i in [1,2,3,n_epochs, n_epochs-1, n_epochs-2] and do_print == True:\n",
    "\n",
    "            print(f\"Epoch: {i}, Loss value: {model_loss}\")\n",
    "            print(f\"Params values: w = {model_params[0]}, b = {model_params[1]}\")\n",
    "            print(f\"Gradient value: {grad_value}\")\n",
    "        \n",
    "    \n",
    "    return model_params\n",
    "\n",
    "initial_params = torch.tensor([1.0, 0.0])\n",
    "        \n",
    "training_loop(15, 1e-2, initial_params, t_u, t_c)        "
   ]
  },
  {
   "cell_type": "code",
   "execution_count": 139,
   "metadata": {},
   "outputs": [
    {
     "name": "stdout",
     "output_type": "stream",
     "text": [
      "Epoch: 1, Loss value: 1763.8846435546875\n",
      "Params values: w = 0.9548270106315613, b = -0.0008259999449364841\n",
      "Gradient value: tensor([4517.2969,   82.6000])\n",
      "Epoch: 2, Loss value: 1565.7613525390625\n",
      "Params values: w = 0.9123117923736572, b = -0.0016051840502768755\n",
      "Gradient value: tensor([4251.5215,   77.9184])\n",
      "Epoch: 3, Loss value: 1390.2655029296875\n",
      "Params values: w = 0.8722979426383972, b = -0.002340306993573904\n",
      "Gradient value: tensor([4001.3838,   73.5123])\n",
      "Epoch: 98, Loss value: 29.117908477783203\n",
      "Params values: w = 0.23425845801830292, b = -0.016456322744488716\n",
      "Gradient value: tensor([12.5503,  3.2493])\n",
      "Epoch: 99, Loss value: 29.11627960205078\n",
      "Params values: w = 0.23414036631584167, b = -0.016488686203956604\n",
      "Gradient value: tensor([11.8088,  3.2363])\n",
      "Epoch: 100, Loss value: 29.114818572998047\n",
      "Params values: w = 0.23402926325798035, b = -0.016520926728844643\n",
      "Gradient value: tensor([11.1109,  3.2240])\n"
     ]
    },
    {
     "data": {
      "text/plain": [
       "tensor([ 0.2340, -0.0165])"
      ]
     },
     "execution_count": 139,
     "metadata": {},
     "output_type": "execute_result"
    }
   ],
   "source": [
    "#the values are diverging instead of converging - possibly the result of too big learning rate. updating to 1e-5\n",
    "training_loop(100, 1e-5, initial_params, t_u, t_c)       "
   ]
  },
  {
   "cell_type": "code",
   "execution_count": 140,
   "metadata": {},
   "outputs": [
    {
     "name": "stdout",
     "output_type": "stream",
     "text": [
      "tensor([35.7000, 55.9000, 58.2000, 81.9000, 56.3000, 48.9000, 33.9000, 21.8000,\n",
      "        48.4000, 60.4000, 68.4000])\n",
      "tensor([3.5700, 5.5900, 5.8200, 8.1900, 5.6300, 4.8900, 3.3900, 2.1800, 4.8400,\n",
      "        6.0400, 6.8400])\n"
     ]
    }
   ],
   "source": [
    "#loss function stops converging. looking at the gradient it seems that the parameters of the model are of a different scale;\n",
    "#the one learning rate cannot effectively converge both parameters. better solution - normalize the inputs.\n",
    "\n",
    "print(t_u)\n",
    "t_un = t_u * 1e-1 #defining normalized version\n",
    "print(t_un)  "
   ]
  },
  {
   "cell_type": "code",
   "execution_count": 143,
   "metadata": {},
   "outputs": [
    {
     "name": "stdout",
     "output_type": "stream",
     "text": [
      "Epoch: 1, Loss value: 80.36434173583984\n",
      "Params values: w = 1.7761403322219849, b = 0.10639999061822891\n",
      "Gradient value: tensor([-77.6140, -10.6400])\n",
      "Epoch: 2, Loss value: 37.57491683959961\n",
      "Params values: w = 2.084763288497925, b = 0.13026385009288788\n",
      "Gradient value: tensor([-30.8623,  -2.3864])\n",
      "Epoch: 3, Loss value: 30.871076583862305\n",
      "Params values: w = 2.2093942165374756, b = 0.12167707830667496\n",
      "Gradient value: tensor([-12.4631,   0.8587])\n",
      "Epoch: 4998, Loss value: 2.9276468753814697\n",
      "Params values: w = 5.367081642150879, b = -17.301177978515625\n",
      "Gradient value: tensor([-0.0001,  0.0006])\n",
      "Epoch: 4999, Loss value: 2.927647352218628\n",
      "Params values: w = 5.367082595825195, b = -17.301183700561523\n",
      "Gradient value: tensor([-0.0001,  0.0006])\n",
      "Epoch: 5000, Loss value: 2.927647590637207\n",
      "Params values: w = 5.367083549499512, b = -17.301189422607422\n",
      "Gradient value: tensor([-0.0001,  0.0006])\n"
     ]
    },
    {
     "data": {
      "text/plain": [
       "tensor([  5.3671, -17.3012])"
      ]
     },
     "execution_count": 143,
     "metadata": {},
     "output_type": "execute_result"
    }
   ],
   "source": [
    "#running same loop again with normalized t_u, going back to learning rate of 1e-2 (seems better), more epochs.\n",
    "training_loop(5000, 1e-2, initial_params, t_un, t_c) "
   ]
  },
  {
   "cell_type": "code",
   "execution_count": 179,
   "metadata": {},
   "outputs": [
    {
     "data": {
      "image/png": "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\n",
      "text/plain": [
       "<Figure size 3000x1500 with 1 Axes>"
      ]
     },
     "metadata": {
      "needs_background": "light"
     },
     "output_type": "display_data"
    }
   ],
   "source": [
    "#good enough approximation, the data isn't perfectly linear, error won't converge to 0.\n",
    "#take the parameters and make the final model\n",
    "\n",
    "final_params = training_loop(5000, 1e-2, initial_params, t_un, t_c, do_print = False) \n",
    "t_p = model(t_un, *final_params)\n",
    "\n",
    "#visualizing!\n",
    "\n",
    "fig = plt.figure(dpi = 300, figsize = (10,5))\n",
    "plt.xlabel(\"Fahrenheit\")\n",
    "plt.ylabel(\"Celsius\")\n",
    "plt.plot(t_u, t_p)\n",
    "plt.plot(t_u, t_c, 'o')\n",
    "plt.grid(linewidth = 0.1)"
   ]
  },
  {
   "cell_type": "code",
   "execution_count": 231,
   "metadata": {},
   "outputs": [
    {
     "data": {
      "text/plain": [
       "tensor([4517.2969,   82.6000])"
      ]
     },
     "execution_count": 231,
     "metadata": {},
     "output_type": "execute_result"
    }
   ],
   "source": [
    "#rewriting to use the autograd functionality\n",
    "params = torch.tensor([1., 0.], requires_grad = True)\n",
    "\n",
    "\n",
    "#performin the backward pass. this tracks the derivative part of previous code.\n",
    "loss_wg = loss(model(t_u, *params), t_c)\n",
    "loss_wg.backward()\n",
    "\n",
    "params.grad"
   ]
  },
  {
   "cell_type": "code",
   "execution_count": 236,
   "metadata": {},
   "outputs": [
    {
     "name": "stdout",
     "output_type": "stream",
     "text": [
      "Epoch: 1, Loss value: 80.36434173583984\n",
      "Params values: w = 1.7761403322219849, b = 0.10639999061822891\n",
      "Epoch: 2, Loss value: 37.57491683959961\n",
      "Params values: w = 2.084763288497925, b = 0.13026385009288788\n",
      "Epoch: 3, Loss value: 30.871076583862305\n",
      "Params values: w = 2.2093942165374756, b = 0.12167707830667496\n",
      "Epoch: 4998, Loss value: 2.9276466369628906\n",
      "Params values: w = 5.367082595825195, b = -17.30118179321289\n",
      "Epoch: 4999, Loss value: 2.927647590637207\n",
      "Params values: w = 5.367083549499512, b = -17.30118751525879\n",
      "Epoch: 5000, Loss value: 2.9276468753814697\n",
      "Params values: w = 5.367084503173828, b = -17.301193237304688\n"
     ]
    },
    {
     "data": {
      "text/plain": [
       "tensor([  5.3671, -17.3012], requires_grad=True)"
      ]
     },
     "execution_count": 236,
     "metadata": {},
     "output_type": "execute_result"
    }
   ],
   "source": [
    "#updating the iteration loop function to include the backward pass\n",
    "def training_loop_wg(n_epochs, learning_rate, params, t_u, t_c, do_print = True):\n",
    "    \n",
    "    for i in range(1, n_epochs+1):\n",
    "        t_p = model(t_u, *params) #first, model value\n",
    "        model_loss = loss(t_p, t_c) #second, loss value, to print it and look if it is going down\n",
    "        model_loss.backward()\n",
    "#         grad_value = grad(t_u, t_c, t_p, w, b) #we are no longer using the manual grad calculation \n",
    "                                                #(the backward loss pass is doing the job for us)\n",
    "        \n",
    "        with torch.no_grad():\n",
    "            params -= learning_rate * params.grad\n",
    "            \n",
    "        params.grad.zero_()\n",
    "        \n",
    "        if i in [1,2,3,n_epochs, n_epochs-1, n_epochs-2] and do_print == True:\n",
    "\n",
    "            print(f\"Epoch: {i}, Loss value: {model_loss}\")\n",
    "            print(f\"Params values: w = {params[0]}, b = {params[1]}\")\n",
    "#             print(f\"Gradient value: {grad_value}\")\n",
    "        \n",
    "    \n",
    "    return params\n",
    "\n",
    "params = torch.tensor([1., 0.], requires_grad = True)\n",
    "training_loop_wg(5000, 1e-2, params, t_un, t_c, do_print = True)\n",
    "params"
   ]
  },
  {
   "cell_type": "code",
   "execution_count": 237,
   "metadata": {},
   "outputs": [
    {
     "name": "stdout",
     "output_type": "stream",
     "text": [
      "Epoch: 1, Loss value: 80.36434173583984\n",
      "Params values: w = 1.7761403322219849, b = 0.10639999061822891\n",
      "Epoch: 2, Loss value: 37.57491683959961\n",
      "Params values: w = 2.084763288497925, b = 0.13026385009288788\n",
      "Epoch: 3, Loss value: 30.871076583862305\n",
      "Params values: w = 2.2093942165374756, b = 0.12167707830667496\n",
      "Epoch: 4998, Loss value: 2.9276466369628906\n",
      "Params values: w = 5.367082595825195, b = -17.30118179321289\n",
      "Epoch: 4999, Loss value: 2.927647590637207\n",
      "Params values: w = 5.367083549499512, b = -17.30118751525879\n",
      "Epoch: 5000, Loss value: 2.9276468753814697\n",
      "Params values: w = 5.367084503173828, b = -17.301193237304688\n"
     ]
    },
    {
     "data": {
      "text/plain": [
       "tensor([  5.3671, -17.3012], requires_grad=True)"
      ]
     },
     "execution_count": 237,
     "metadata": {},
     "output_type": "execute_result"
    }
   ],
   "source": [
    "#adding the optimizer\n",
    "def training_loop_wo(n_epochs, learning_rate, params, t_u, t_c, do_print = True):\n",
    "    \n",
    "    #first, setting up the optimizer and passing the params inside\n",
    "    #for starters, the regular SGD optimizer\n",
    "    \n",
    "    import torch.optim as optim\n",
    "    optimizer = optim.SGD([params], lr = learning_rate) #passing the params and learning rate\n",
    "    \n",
    "    for i in range(1, n_epochs+1):\n",
    "        t_p = model(t_u, *params) #first, model value\n",
    "        model_loss = loss(t_p, t_c) #second, loss value, to print it and look if it is going down\n",
    "        model_loss.backward()\n",
    "#         grad_value = grad(t_u, t_c, t_p, w, b) #we are no longer using the manual grad calculation \n",
    "                                                #(the backward loss pass is doing the job for us)\n",
    "        \n",
    "#         with torch.no_grad():\n",
    "#             params -= learning_rate * params.grad #this part of the code also becomes obsolete since we now have our\n",
    "                                                    #optimizer ready to do the job\n",
    "        \n",
    "        optimizer.step() #this one updates the params values\n",
    "        optimizer.zero_grad()\n",
    "#         params.grad.zero_() #also redundant, we are using the above line for that\n",
    "        \n",
    "        if i in [1,2,3,n_epochs, n_epochs-1, n_epochs-2] and do_print == True:\n",
    "\n",
    "            print(f\"Epoch: {i}, Loss value: {model_loss}\")\n",
    "            print(f\"Params values: w = {params[0]}, b = {params[1]}\")\n",
    "#             print(f\"Gradient value: {grad_value}\")\n",
    "        \n",
    "    \n",
    "    return params\n",
    "\n",
    "params = torch.tensor([1., 0.], requires_grad = True)\n",
    "training_loop_wo(5000, 1e-2, params, t_un, t_c, do_print = True)\n",
    "params"
   ]
  },
  {
   "cell_type": "code",
   "execution_count": 241,
   "metadata": {},
   "outputs": [
    {
     "name": "stdout",
     "output_type": "stream",
     "text": [
      "Epoch: 1, Loss value: 1763.8846435546875\n",
      "Params values: w = 0.8999999761581421, b = -0.09999999403953552\n",
      "Epoch: 2, Loss value: 1334.34912109375\n",
      "Params values: w = 0.8006196618080139, b = -0.19941246509552002\n",
      "Epoch: 3, Loss value: 967.8158569335938\n",
      "Params values: w = 0.7024322152137756, b = -0.29770106077194214\n",
      "Epoch: 1998, Loss value: 2.9276466369628906\n",
      "Params values: w = 0.5367231369018555, b = -17.30201530456543\n",
      "Epoch: 1999, Loss value: 2.927645206451416\n",
      "Params values: w = 0.5367234945297241, b = -17.302038192749023\n",
      "Epoch: 2000, Loss value: 2.9276459217071533\n",
      "Params values: w = 0.5367238521575928, b = -17.302061080932617\n"
     ]
    },
    {
     "data": {
      "text/plain": [
       "tensor([  0.5367, -17.3021], requires_grad=True)"
      ]
     },
     "execution_count": 241,
     "metadata": {},
     "output_type": "execute_result"
    }
   ],
   "source": [
    "#experimenting with ADAM optimizer\n",
    "#adding the optimizer\n",
    "def training_loop_w_Adam(n_epochs, learning_rate, params, t_u, t_c, do_print = True):\n",
    "    \n",
    "    #first, setting up the optimizer and passing the params inside\n",
    "    #for starters, the regular SGD optimizer\n",
    "    \n",
    "    import torch.optim as optim\n",
    "    optimizer = optim.Adam([params], lr = learning_rate) #passing the params and learning rate\n",
    "    \n",
    "    for i in range(1, n_epochs+1):\n",
    "        t_p = model(t_u, *params) #first, model value\n",
    "        model_loss = loss(t_p, t_c) #second, loss value, to print it and look if it is going down\n",
    "        model_loss.backward()\n",
    "#         grad_value = grad(t_u, t_c, t_p, w, b) #we are no longer using the manual grad calculation \n",
    "                                                #(the backward loss pass is doing the job for us)\n",
    "        \n",
    "#         with torch.no_grad():\n",
    "#             params -= learning_rate * params.grad #this part of the code also becomes obsolete since we now have our\n",
    "                                                    #optimizer ready to do the job\n",
    "        \n",
    "        optimizer.step() #this one updates the params values\n",
    "        optimizer.zero_grad()\n",
    "#         params.grad.zero_() #also redundant, we are using the above line for that\n",
    "        \n",
    "        if i in [1,2,3,n_epochs, n_epochs-1, n_epochs-2] and do_print == True:\n",
    "\n",
    "            print(f\"Epoch: {i}, Loss value: {model_loss}\")\n",
    "            print(f\"Params values: w = {params[0]}, b = {params[1]}\")\n",
    "#             print(f\"Gradient value: {grad_value}\")\n",
    "        \n",
    "    \n",
    "    return params\n",
    "\n",
    "#also changing the inputs\n",
    "#since ADAM is less scale sensitive, we are using old t_u (unnormalized input), we can also go back to\n",
    "#higher learning rate (it is adaptive) and do less epochs\n",
    "params = torch.tensor([1., 0.], requires_grad = True)\n",
    "training_loop_w_Adam(2000, 1e-1, params, t_u, t_c, do_print = True)\n",
    "params\n"
   ]
  },
  {
   "cell_type": "code",
   "execution_count": null,
   "metadata": {},
   "outputs": [],
   "source": []
=======
    "#calculating the whole gradient in the one function\n",
    "\n",
    "def grad(t_u, )\n"
   ]
>>>>>>> 999414a31fdc6b83df1c22b2c80e5e6ec181f391
  }
 ],
 "metadata": {
  "kernelspec": {
   "display_name": "Python 3",
   "language": "python",
   "name": "python3"
  },
  "language_info": {
   "codemirror_mode": {
    "name": "ipython",
    "version": 3
   },
   "file_extension": ".py",
   "mimetype": "text/x-python",
   "name": "python",
   "nbconvert_exporter": "python",
   "pygments_lexer": "ipython3",
   "version": "3.6.7"
  }
 },
 "nbformat": 4,
 "nbformat_minor": 4
}
