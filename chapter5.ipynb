{
 "cells": [
  {
   "cell_type": "code",
   "execution_count": 27,
   "metadata": {},
   "outputs": [
    {
     "data": {
      "text/plain": [
       "<matplotlib.collections.PathCollection at 0x260763db898>"
      ]
     },
     "execution_count": 27,
     "metadata": {},
     "output_type": "execute_result"
    },
    {
     "data": {
      "image/png": "[encoded data removed]",
      "text/plain": [
       "<Figure size 432x288 with 1 Axes>"
      ]
     },
     "metadata": {
      "needs_background": "light"
     },
     "output_type": "display_data"
    }
   ],
   "source": [
    "import torch\n",
    "\n",
    "#magic function, plots will be visible in the notebook\n",
    "%matplotlib inline\n",
    "\n",
    "import matplotlib.pyplot as plt\n",
    "\n",
    "#statement of the problem:\n",
    "#we want to find the correlation between temperatures t_c and t_u. To be exact, we want to find the \n",
    "#transformation (possibly linear) that is needed to convert temp. units (t_u) to t_c.\n",
    "\n",
    "# temperature data\n",
    "t_c = [0.5, 14.0, 15.0, 28.0, 11.0, 8.0, 3.0, -4.0, 6.0, 13.0, 21.0]\n",
    "t_u = [35.7, 55.9, 58.2, 81.9, 56.3, 48.9, 33.9, 21.8, 48.4, 60.4, 68.4]\n",
    "t_c = torch.tensor(t_c)\n",
    "t_u = torch.tensor(t_u)\n",
    "\n",
    "plt.scatter(t_c, t_u)\n"
   ]
  },
  {
   "cell_type": "code",
   "execution_count": 40,
   "metadata": {},
   "outputs": [
    {
     "name": "stdout",
     "output_type": "stream",
     "text": [
      "torch.Size([])\n",
      "torch.FloatTensor\n",
      "tensor(1.)\n",
      "torch.Size([])\n",
      "torch.Size([])\n"
     ]
    },
    {
     "data": {
      "text/plain": [
       "tensor(1763.8846)"
      ]
     },
     "execution_count": 40,
     "metadata": {},
     "output_type": "execute_result"
    }
   ],
   "source": [
    "# proceeding with the linear type of model (essentially defining linear regression from scratch)\n",
    "\n",
    "#approach: we want to create a linear function that converts t_u to values t_p. t_p are meant\n",
    "#to be the values as close to t_c as possible. w - weights, b - bias (y = w*x + b).\n",
    "\n",
    "def model(t_u, w, b):\n",
    "    return w * t_u + b\n",
    "\n",
    "# we are applying the L2 kind of loss (MSE). More robust for outliers, penalizes very wrong results more that L1 metric.\n",
    "\n",
    "def loss(t_p, t_c):\n",
    "    loss = (t_p - t_c)**2\n",
    "    return loss.mean()\n",
    "\n",
    "#test\n",
    "# test_c = torch.tensor([2], dtype = float)\n",
    "# test_p = torch.tensor([1], dtype = float)\n",
    "\n",
    "# print(loss(test_c, test_p))\n",
    "\n",
    "# w and b initializing\n",
    "w = torch.ones(())\n",
    "b = torch.zeros(())\n",
    "\n",
    "print(w.shape)\n",
    "print(w.type())\n",
    "print(w)\n",
    "print(w.size())\n",
    "\n",
    "# calculating t_p for earlier defined t_u\n",
    "\n",
    "t_p = model(t_u, w, b)\n",
    "loss(t_p, t_c)\n"
   ]
  },
  {
   "cell_type": "code",
   "execution_count": 76,
   "metadata": {},
   "outputs": [
    {
     "name": "stdout",
     "output_type": "stream",
     "text": [
      "tensor([[[[[1., 1.],\n",
      "           [1., 1.],\n",
      "           [1., 1.]]]],\n",
      "\n",
      "\n",
      "\n",
      "        [[[[1., 1.],\n",
      "           [1., 1.],\n",
      "           [1., 1.]]]],\n",
      "\n",
      "\n",
      "\n",
      "        [[[[1., 1.],\n",
      "           [1., 1.],\n",
      "           [1., 1.]]]]])\n",
      "torch.Size([3, 1, 1, 3, 2])\n",
      "Shapes of the tensors: x - torch.Size([]), y - torch.Size([3, 1, 1, 1, 1]))\n",
      "Shapes of the tensors: z - torch.Size([1, 3]), a - torch.Size([2, 1, 1]))\n",
      "tensor([[[[[1.]]]],\n",
      "\n",
      "\n",
      "\n",
      "        [[[[1.]]]],\n",
      "\n",
      "\n",
      "\n",
      "        [[[[1.]]]]])\n",
      "tensor([[[1.]],\n",
      "\n",
      "        [[1.]]])\n",
      "tensor([[[[[1.]],\n",
      "\n",
      "          [[1.]]]],\n",
      "\n",
      "\n",
      "\n",
      "        [[[[1.]],\n",
      "\n",
      "          [[1.]]]],\n",
      "\n",
      "\n",
      "\n",
      "        [[[[1.]],\n",
      "\n",
      "          [[1.]]]]])\n",
      "Shapes of the tensors: y*a - torch.Size([3, 1, 2, 1, 1])\n",
      "Shapes of the tensors: a*z - torch.Size([2, 1, 3])\n",
      "Shapes of the tensors: y*a*z - torch.Size([3, 1, 2, 1, 3])\n",
      "tensor([[[[[1., 1., 1.]],\n",
      "\n",
      "          [[1., 1., 1.]]]],\n",
      "\n",
      "\n",
      "\n",
      "        [[[[1., 1., 1.]],\n",
      "\n",
      "          [[1., 1., 1.]]]],\n",
      "\n",
      "\n",
      "\n",
      "        [[[[1., 1., 1.]],\n",
      "\n",
      "          [[1., 1., 1.]]]]])\n"
     ]
    }
   ],
   "source": [
    "# BROADCASTING\n",
    "# pytorch functionality that allow us to perform operations of tensors that are not necessarily of the same size/shape.\n",
    "\n",
    "x = torch.ones(())\n",
    "y = torch.ones(3,1,1,1,1)\n",
    "z = torch.ones(1,3)\n",
    "a = torch.ones(2,1,1)\n",
    "f = torch.ones(3,2)\n",
    "\n",
    "print(y*f)\n",
    "print((y*f).shape)\n",
    "\n",
    "print(f\"Shapes of the tensors: x - {x.shape}, y - {y.shape})\")\n",
    "print(f\"Shapes of the tensors: z - {z.shape}, a - {a.shape})\")\n",
    "\n",
    "print(y)\n",
    "print(a)\n",
    "print(y*a)\n",
    "\n",
    "print(f\"Shapes of the tensors: y*a - {(y*a).shape}\")\n",
    "print(f\"Shapes of the tensors: a*z - {(a*z).shape}\")\n",
    "print(f\"Shapes of the tensors: y*a*z - {(y*a*z).shape}\")\n",
    "print(y*a*z)"
   ]
  },
  {
   "cell_type": "code",
   "execution_count": 83,
   "metadata": {},
   "outputs": [
    {
     "name": "stdout",
     "output_type": "stream",
     "text": [
      "tensor([35.7000, 55.9000, 58.2000, 81.9000, 56.3000, 48.9000, 33.9000, 21.8000,\n",
      "        48.4000, 60.4000, 68.4000])\n",
      "tensor(51.8000)\n",
      "tensor([1.0000, 1.0000, 1.0000, 1.0000, 1.0000, 1.0000, 1.0000, 1.0000, 1.0000,\n",
      "        1.0000, 1.0000])\n",
      "tensor(1.0000)\n"
     ]
    }
   ],
   "source": [
    "# rate of change calculating\n",
    "\n",
    "delta = 0.1\n",
    "loss_rate_of_change_w = (model(t_u, w + delta, b) - model(t_u, w - delta, b))/(2*delta)\n",
    "print(loss_rate_of_change_w)\n",
    "print(loss_rate_of_change_w.mean())\n",
    "\n",
    "#same calculating for the b parameter\n",
    "loss_rate_of_change_b = (model(t_u, w, b + delta) - model(t_u, w, b - delta))/(2*delta)\n",
    "print(loss_rate_of_change_b)\n",
    "print(loss_rate_of_change_b.mean())"
   ]
  },
  {
   "cell_type": "code",
   "execution_count": null,
   "metadata": {},
   "outputs": [],
   "source": [
    "#derivatives for the gradient descent\n",
    "\n",
    "#first, derivative of the loss function (which is a quadratic function, MSE)\n",
    "#remembering that t_p is the the variable here\n",
    "def dloss(t_p, t_c):\n",
    "    dloss = 2*(t_p - t_c)\n",
    "    return dloss / t_p.size() #division necessary to address the mean calculation from the model\n",
    "\n",
    "#second, derivative of the model function (linear)\n",
    "\n",
    "#two variables here, w and b, so two functions\n",
    "def dmodel_dw(t_u, w, b):\n",
    "    return t_u\n",
    "\n",
    "def dmodel_db(t_u, w, b):\n",
    "    return 1.0\n",
    "\n",
    "#calculating the whole gradient in the one function\n",
    "\n",
    "def grad(t_u, )\n"
   ]
  }
 ],
 "metadata": {
  "kernelspec": {
   "display_name": "Python 3",
   "language": "python",
   "name": "python3"
  },
  "language_info": {
   "codemirror_mode": {
    "name": "ipython",
    "version": 3
   },
   "file_extension": ".py",
   "mimetype": "text/x-python",
   "name": "python",
   "nbconvert_exporter": "python",
   "pygments_lexer": "ipython3",
   "version": "3.6.7"
  }
 },
 "nbformat": 4,
 "nbformat_minor": 4
}
