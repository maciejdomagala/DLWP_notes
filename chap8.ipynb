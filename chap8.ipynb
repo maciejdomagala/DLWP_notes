{
 "cells": [
  {
   "cell_type": "code",
   "execution_count": 16,
   "metadata": {},
   "outputs": [
    {
     "name": "stdout",
     "output_type": "stream",
     "text": [
      "Conv2d(3, 16, kernel_size=(3, 3), stride=(1, 1))\n",
      "torch.Size([16, 3, 3, 3])\n",
      "torch.Size([16])\n"
     ]
    }
   ],
   "source": [
    "#convolutions!!!\n",
    "import matplotlib.pyplot as plt\n",
    "%matplotlib inline\n",
    "import torch.nn as nn\n",
    "from torchvision import transforms\n",
    "from torchvision import datasets\n",
    "import torch\n",
    "\n",
    "#create first convolutional layer!\n",
    "conv = nn.Conv2d(3, 16, kernel_size=3) #3 input features (RGB colors in the image), 16 outputs (feature maps) and kernel\n",
    "                                        #size that will be traversing the image is 3x3.\n",
    "print(conv)\n",
    "print(conv.weight.shape)  #we have 16 feature maps, each made as a 3x3 kernel for each of the 3 channels that we have\n",
    "print(conv.bias.shape) #we add that for every output map"
   ]
  },
  {
   "cell_type": "code",
   "execution_count": 102,
   "metadata": {},
   "outputs": [
    {
     "name": "stdout",
     "output_type": "stream",
     "text": [
      "Files already downloaded and verified\n",
      "Files already downloaded and verified\n"
     ]
    }
   ],
   "source": [
    "#checking convolution output on one image\n",
    "#download the data again\n",
    "mean = (0.4915, 0.4823, 0.4468)\n",
    "std = (0.2470, 0.2435, 0.2616)\n",
    "cifar_path = r\"C:\\Users\\DomagalaMa\\Desktop\\DLWP_notes\\DLWP_notes\\data\\CIFAR10\"\n",
    "new_transform = transforms.Compose([transforms.ToTensor(), transforms.Normalize(mean, std)])\n",
    "label_mapping = {0:0, 2:1}\n",
    "transformed_cifar10 = datasets.CIFAR10(cifar_path, \n",
    "                                       download=True, \n",
    "                                       train=True, \n",
    "                                       transform = new_transform)\n",
    "cifar2 = [(image, label_mapping[label]) for (image, label) in transformed_cifar10 if (label in [0,2])]\n",
    "transformed_cifar10_val = datasets.CIFAR10(cifar_path, \n",
    "                                       download=True, \n",
    "                                       train=False, \n",
    "                                       transform = new_transform)\n",
    "cifar2_val = [(image, label_mapping[label]) for (image, label) in transformed_cifar10_val if (label in [0,2])]"
   ]
  },
  {
   "cell_type": "code",
   "execution_count": 41,
   "metadata": {},
   "outputs": [
    {
     "name": "stderr",
     "output_type": "stream",
     "text": [
      "Clipping input data to the valid range for imshow with RGB data ([0..1] for floats or [0..255] for integers).\n"
     ]
    },
    {
     "data": {
      "image/png": "[encoded data removed]",
      "text/plain": [
       "<Figure size 432x288 with 1 Axes>"
      ]
     },
     "metadata": {
      "needs_background": "light"
     },
     "output_type": "display_data"
    },
    {
     "name": "stdout",
     "output_type": "stream",
     "text": [
      "torch.Size([30, 30])\n"
     ]
    },
    {
     "data": {
      "image/png": "[encoded data removed]",
      "text/plain": [
       "<Figure size 432x288 with 1 Axes>"
      ]
     },
     "metadata": {
      "needs_background": "light"
     },
     "output_type": "display_data"
    }
   ],
   "source": [
    "img, _ = cifar2[100]\n",
    "plt.imshow(img.permute(1,2,0), cmap='gray')\n",
    "plt.show()\n",
    "#after_conv\n",
    "img_conv = conv(img.unsqueeze(0))\n",
    "print(img_conv[0,0].shape)\n",
    "plt.imshow(img_conv[0, 0].detach().numpy(), cmap='gray')\n",
    "plt.show()"
   ]
  },
  {
   "cell_type": "code",
   "execution_count": 49,
   "metadata": {},
   "outputs": [
    {
     "name": "stdout",
     "output_type": "stream",
     "text": [
      "torch.Size([1, 3, 32, 32])\n",
      "torch.Size([1, 16, 30, 30])\n",
      "torch.Size([1, 16, 32, 32])\n"
     ]
    }
   ],
   "source": [
    "#comparision of the shapes\n",
    "print(img.unsqueeze(0).shape)\n",
    "print(img_conv.shape)\n",
    "\n",
    "#using padding to get the output to be of the same pixel resolution\n",
    "conv_pad = nn.Conv2d(3,16, kernel_size=3, padding=1)\n",
    "img_conv_pad = conv_pad(img.unsqueeze(0))\n",
    "\n",
    "print(img_conv_pad.shape) #works!"
   ]
  },
  {
   "cell_type": "code",
   "execution_count": 57,
   "metadata": {},
   "outputs": [
    {
     "data": {
      "image/png": "[encoded data removed]",
      "text/plain": [
       "<Figure size 432x288 with 1 Axes>"
      ]
     },
     "metadata": {
      "needs_background": "light"
     },
     "output_type": "display_data"
    }
   ],
   "source": [
    "#manual kernel setup and detecting\n",
    "with torch.no_grad():\n",
    "    conv_pad.bias.zero_()\n",
    "    conv_pad.weight.fill_(1.0 / 9.0)\n",
    "    \n",
    "img_conv_pad = conv_pad(img.unsqueeze(0))\n",
    "plt.imshow(img_conv_pad[0, 0].detach().numpy(), cmap='gray')\n",
    "plt.show()"
   ]
  },
  {
   "cell_type": "code",
   "execution_count": 65,
   "metadata": {},
   "outputs": [
    {
     "name": "stderr",
     "output_type": "stream",
     "text": [
      "Clipping input data to the valid range for imshow with RGB data ([0..1] for floats or [0..255] for integers).\n"
     ]
    },
    {
     "data": {
      "text/plain": [
       "<matplotlib.image.AxesImage at 0x20a329c6198>"
      ]
     },
     "execution_count": 65,
     "metadata": {},
     "output_type": "execute_result"
    },
    {
     "data": {
      "image/png": "[encoded data removed]",
      "text/plain": [
       "<Figure size 432x288 with 1 Axes>"
      ]
     },
     "metadata": {
      "needs_background": "light"
     },
     "output_type": "display_data"
    }
   ],
   "source": [
    "#downsampling techniques wiht max pooling\n",
    "max_pool = nn.MaxPool2d(2) #parameter corresponds to the size of the matrix we want to downsample (here 2x2)\n",
    "img_max_pool = max_pool(img)\n",
    "img_max_pool.shape\n",
    "plt.imshow(img_max_pool.permute(1,2,0))"
   ]
  },
  {
   "cell_type": "code",
   "execution_count": 74,
   "metadata": {},
   "outputs": [
    {
     "name": "stdout",
     "output_type": "stream",
     "text": [
      "18090 [432, 16, 1152, 8, 16384, 32, 64, 2]\n"
     ]
    },
    {
     "data": {
      "text/plain": [
       "tensor([[-0.0050,  0.1667]], grad_fn=<AddmmBackward>)"
      ]
     },
     "execution_count": 74,
     "metadata": {},
     "output_type": "execute_result"
    }
   ],
   "source": [
    "#building model using conv and max_pool layers\n",
    "model = nn.Sequential(nn.Conv2d(3, 16, kernel_size=3, padding=1),\n",
    "                      nn.Tanh(),\n",
    "                      nn.MaxPool2d(2),\n",
    "                      nn.Conv2d(16, 8, kernel_size=3, padding=1),\n",
    "                      nn.Tanh(),\n",
    "                      nn.MaxPool2d(2),\n",
    "                      nn.Flatten(),\n",
    "                      nn.Linear(8 * 8 * 8, 32),\n",
    "                      nn.Tanh(),\n",
    "                      nn.Linear(32, 2))\n",
    "\n",
    "#printing the model parameter\n",
    "param_list = [p.numel() for p in model.parameters()]\n",
    "print(sum(param_list), param_list)\n",
    "\n",
    "model(img.unsqueeze(0))"
   ]
  },
  {
   "cell_type": "code",
   "execution_count": 85,
   "metadata": {},
   "outputs": [],
   "source": [
    "#defining nn.Module subclass and forward pass\n",
    "\n",
    "class Net(nn.Module):\n",
    "    def __init__(self):\n",
    "        super().__init__()\n",
    "        self.conv1 = nn.Conv2d(3, 16, kernel_size=3, padding=1)\n",
    "        self.conv2 = nn.Conv2d(16, 8, kernel_size=3, padding=1)\n",
    "        self.act1 = nn.Tanh()\n",
    "        self.pool1 = nn.MaxPool2d(2)\n",
    "        self.fc1 = nn.Linear(8 * 8 * 8, 32)\n",
    "        self.fc2 = nn.Linear(32, 2)\n",
    "        \n",
    "    def forward(self, x):\n",
    "        out = self.pool1(self.act1(self.conv1(x))) #first layer\n",
    "        out = self.pool1(self.act1(self.conv2(x))) #second layer\n",
    "        \n",
    "        #after that we have our 8x8x8 output, we need to make it 1d so it fits into Linear layer\n",
    "        out = out.view(-1, 8*8*8) #the -1 is the batch dimension - we don't know exactly how many samples we will have there\n",
    "        out = self.fc1(out)\n",
    "        out = self.act1(out)\n",
    "        out = self.fc2(out)\n",
    "        return out"
   ]
  },
  {
   "cell_type": "code",
   "execution_count": 92,
   "metadata": {},
   "outputs": [],
   "source": [
    "#redefining the class to use the functionality module from pytorch\n",
    "import torch.nn.functional as F\n",
    "\n",
    "class Net(nn.Module):\n",
    "    def __init__(self):\n",
    "        super().__init__()\n",
    "        self.conv1 = nn.Conv2d(3, 16, kernel_size=3, padding=1)\n",
    "        self.conv2 = nn.Conv2d(16, 8, kernel_size=3, padding=1)\n",
    "        self.fc1 = nn.Linear(8 * 8 * 8, 32)\n",
    "        self.fc2 = nn.Linear(32, 2)\n",
    "        \n",
    "    def forward(self, x):\n",
    "        out = F.max_pool2d(F.tanh(self.conv1(x)),2) #first layer\n",
    "        out = F.max_pool2d(F.tanh(self.conv2(out)),2)\n",
    "\n",
    "        out = out.view(-1, 8*8*8) #the -1 is the batch dimension - we don't know exactly how many samples we will have there\n",
    "\n",
    "        out = self.fc2(F.tanh(self.fc1(out)))\n",
    "        return out"
   ]
  },
  {
   "cell_type": "code",
   "execution_count": 93,
   "metadata": {},
   "outputs": [
    {
     "data": {
      "text/plain": [
       "tensor([[0.0448, 0.0778]], grad_fn=<AddmmBackward>)"
      ]
     },
     "execution_count": 93,
     "metadata": {},
     "output_type": "execute_result"
    }
   ],
   "source": [
    "#test\n",
    "model = Net()  #no need to call forward function. when initializing the object it call hooks and runs forward pass automatically\n",
    "model(img.unsqueeze(0))"
   ]
  },
  {
   "cell_type": "code",
   "execution_count": 100,
   "metadata": {},
   "outputs": [],
   "source": [
    "#creating a full training loop for the new model\n",
    "import datetime\n",
    "\n",
    "def training_loop_Net(n_epochs, model, optimizer, loss, data_loader):\n",
    "    \n",
    "    for epoch in range(1, n_epochs + 1):\n",
    "        \n",
    "        epoch_loss = 0.0   #going to calculate loss for each batch\n",
    "        \n",
    "        for imgs, labels in data_loader:\n",
    "            \n",
    "            out = model(imgs)\n",
    "            \n",
    "            loss_f = loss(out, labels)\n",
    "            \n",
    "            loss_f.backward()\n",
    "            optimizer.step()\n",
    "            optimizer.zero_grad()\n",
    "            \n",
    "            epoch_loss += loss_f\n",
    "            \n",
    "#         if epoch == 1 or epoch % 10 == 0:\n",
    "        print(f\"{datetime.datetime.now()}, epoch {epoch}, loss {epoch_loss/len(data_loader)}\")\n",
    "            \n",
    "    return    "
   ]
  },
  {
   "cell_type": "code",
   "execution_count": 101,
   "metadata": {},
   "outputs": [
    {
     "name": "stdout",
     "output_type": "stream",
     "text": [
      "2020-08-09 14:23:31.401637, epoch 1, loss 0.5839462876319885\n",
      "2020-08-09 14:23:37.030634, epoch 2, loss 0.4894430637359619\n",
      "2020-08-09 14:23:42.991746, epoch 3, loss 0.45859625935554504\n",
      "2020-08-09 14:23:49.448535, epoch 4, loss 0.428885817527771\n",
      "2020-08-09 14:23:55.806588, epoch 5, loss 0.4007994532585144\n",
      "2020-08-09 14:24:03.697556, epoch 6, loss 0.377450555562973\n",
      "2020-08-09 14:24:10.903349, epoch 7, loss 0.3594116270542145\n",
      "2020-08-09 14:24:18.033345, epoch 8, loss 0.34684211015701294\n",
      "2020-08-09 14:24:25.335881, epoch 9, loss 0.3369998335838318\n",
      "2020-08-09 14:24:32.505770, epoch 10, loss 0.3302081227302551\n",
      "2020-08-09 14:24:39.754445, epoch 11, loss 0.32231977581977844\n",
      "2020-08-09 14:24:46.877456, epoch 12, loss 0.31748780608177185\n",
      "2020-08-09 14:24:54.214895, epoch 13, loss 0.3133796751499176\n",
      "2020-08-09 14:25:01.410227, epoch 14, loss 0.3108367919921875\n",
      "2020-08-09 14:25:08.787559, epoch 15, loss 0.30696219205856323\n",
      "2020-08-09 14:25:15.892617, epoch 16, loss 0.30093955993652344\n",
      "2020-08-09 14:25:23.036572, epoch 17, loss 0.297608345746994\n",
      "2020-08-09 14:25:30.663240, epoch 18, loss 0.2938742935657501\n",
      "2020-08-09 14:25:37.920892, epoch 19, loss 0.29336804151535034\n",
      "2020-08-09 14:25:45.594434, epoch 20, loss 0.2907439172267914\n",
      "2020-08-09 14:25:53.180213, epoch 21, loss 0.2883693277835846\n",
      "2020-08-09 14:26:00.644313, epoch 22, loss 0.28577056527137756\n",
      "2020-08-09 14:26:08.403627, epoch 23, loss 0.28264176845550537\n",
      "2020-08-09 14:26:15.823845, epoch 24, loss 0.28036653995513916\n",
      "2020-08-09 14:26:23.017832, epoch 25, loss 0.27639544010162354\n",
      "2020-08-09 14:26:30.227611, epoch 26, loss 0.2755777835845947\n",
      "2020-08-09 14:26:37.520170, epoch 27, loss 0.27214232087135315\n",
      "2020-08-09 14:26:44.677090, epoch 28, loss 0.2698061764240265\n",
      "2020-08-09 14:26:51.849967, epoch 29, loss 0.2679932713508606\n",
      "2020-08-09 14:26:59.667127, epoch 30, loss 0.2678791880607605\n",
      "2020-08-09 14:27:06.869925, epoch 31, loss 0.2631804645061493\n",
      "2020-08-09 14:27:14.041804, epoch 32, loss 0.26305997371673584\n",
      "2020-08-09 14:27:21.429111, epoch 33, loss 0.26123717427253723\n",
      "2020-08-09 14:27:28.703717, epoch 34, loss 0.25786513090133667\n",
      "2020-08-09 14:27:35.864626, epoch 35, loss 0.2570410370826721\n",
      "2020-08-09 14:27:43.103328, epoch 36, loss 0.253858745098114\n",
      "2020-08-09 14:27:50.217362, epoch 37, loss 0.2529606223106384\n",
      "2020-08-09 14:27:57.623619, epoch 38, loss 0.2501402199268341\n",
      "2020-08-09 14:28:07.298825, epoch 39, loss 0.24989989399909973\n",
      "2020-08-09 14:28:15.532046, epoch 40, loss 0.24847173690795898\n",
      "2020-08-09 14:28:22.808170, epoch 41, loss 0.24706192314624786\n",
      "2020-08-09 14:28:29.906247, epoch 42, loss 0.24308130145072937\n",
      "2020-08-09 14:28:37.155920, epoch 43, loss 0.243228480219841\n",
      "2020-08-09 14:28:44.399609, epoch 44, loss 0.24199506640434265\n",
      "2020-08-09 14:28:51.661249, epoch 45, loss 0.23999856412410736\n",
      "2020-08-09 14:28:58.992706, epoch 46, loss 0.23777486383914948\n",
      "2020-08-09 14:29:06.137656, epoch 47, loss 0.23735342919826508\n",
      "2020-08-09 14:29:14.290920, epoch 48, loss 0.23471654951572418\n",
      "2020-08-09 14:29:22.457149, epoch 49, loss 0.236111581325531\n",
      "2020-08-09 14:29:30.708800, epoch 50, loss 0.2316845953464508\n",
      "2020-08-09 14:29:39.475491, epoch 51, loss 0.23092910647392273\n",
      "2020-08-09 14:29:46.908675, epoch 52, loss 0.2287403792142868\n",
      "2020-08-09 14:29:54.339863, epoch 53, loss 0.22678212821483612\n",
      "2020-08-09 14:30:01.612475, epoch 54, loss 0.2253372073173523\n",
      "2020-08-09 14:30:09.252108, epoch 55, loss 0.22415395081043243\n",
      "2020-08-09 14:30:16.852845, epoch 56, loss 0.22214306890964508\n",
      "2020-08-09 14:30:24.817611, epoch 57, loss 0.22163213789463043\n",
      "2020-08-09 14:30:32.026393, epoch 58, loss 0.21876667439937592\n",
      "2020-08-09 14:30:39.530388, epoch 59, loss 0.21612580120563507\n",
      "2020-08-09 14:30:46.997480, epoch 60, loss 0.21587814390659332\n",
      "2020-08-09 14:30:54.318962, epoch 61, loss 0.21436405181884766\n",
      "2020-08-09 14:31:01.884792, epoch 62, loss 0.21248838305473328\n",
      "2020-08-09 14:31:09.447630, epoch 63, loss 0.21186621487140656\n",
      "2020-08-09 14:31:17.116188, epoch 64, loss 0.20758552849292755\n",
      "2020-08-09 14:31:24.994183, epoch 65, loss 0.20776784420013428\n",
      "2020-08-09 14:31:32.203963, epoch 66, loss 0.2076416313648224\n",
      "2020-08-09 14:31:39.383822, epoch 67, loss 0.2059289962053299\n",
      "2020-08-09 14:31:47.304705, epoch 68, loss 0.20170748233795166\n",
      "2020-08-09 14:31:55.545803, epoch 69, loss 0.20090459287166595\n",
      "2020-08-09 14:32:03.236301, epoch 70, loss 0.19983713328838348\n",
      "2020-08-09 14:32:11.420483, epoch 71, loss 0.1983470469713211\n",
      "2020-08-09 14:32:21.004726, epoch 72, loss 0.1969289630651474\n",
      "2020-08-09 14:32:28.239439, epoch 73, loss 0.19479548931121826\n",
      "2020-08-09 14:32:35.410322, epoch 74, loss 0.19338136911392212\n",
      "2020-08-09 14:32:42.711856, epoch 75, loss 0.19119949638843536\n",
      "2020-08-09 14:32:49.833869, epoch 76, loss 0.19101496040821075\n",
      "2020-08-09 14:32:57.267053, epoch 77, loss 0.18896625936031342\n",
      "2020-08-09 14:33:04.414000, epoch 78, loss 0.18865345418453217\n",
      "2020-08-09 14:33:11.778369, epoch 79, loss 0.18510089814662933\n",
      "2020-08-09 14:33:19.006098, epoch 80, loss 0.18286031484603882\n",
      "2020-08-09 14:33:26.628777, epoch 81, loss 0.18421149253845215\n",
      "2020-08-09 14:33:34.122797, epoch 82, loss 0.17997823655605316\n",
      "2020-08-09 14:33:41.469212, epoch 83, loss 0.17869450151920319\n",
      "2020-08-09 14:33:48.594217, epoch 84, loss 0.17707058787345886\n",
      "2020-08-09 14:33:55.862839, epoch 85, loss 0.17727994918823242\n",
      "2020-08-09 14:34:03.162380, epoch 86, loss 0.17691893875598907\n",
      "2020-08-09 14:34:10.370164, epoch 87, loss 0.17438265681266785\n",
      "2020-08-09 14:34:17.628813, epoch 88, loss 0.17332907021045685\n",
      "2020-08-09 14:34:24.892456, epoch 89, loss 0.17109842598438263\n",
      "2020-08-09 14:34:32.042397, epoch 90, loss 0.16897690296173096\n",
      "2020-08-09 14:34:39.298048, epoch 91, loss 0.1675041764974594\n",
      "2020-08-09 14:34:46.572650, epoch 92, loss 0.166168674826622\n",
      "2020-08-09 14:34:53.815338, epoch 93, loss 0.1651059240102768\n",
      "2020-08-09 14:35:01.060020, epoch 94, loss 0.16434365510940552\n",
      "2020-08-09 14:35:08.316672, epoch 95, loss 0.16159307956695557\n",
      "2020-08-09 14:35:15.413748, epoch 96, loss 0.16132020950317383\n",
      "2020-08-09 14:35:22.572657, epoch 97, loss 0.16007214784622192\n",
      "2020-08-09 14:35:29.729573, epoch 98, loss 0.15861517190933228\n",
      "2020-08-09 14:35:36.882501, epoch 99, loss 0.15607915818691254\n",
      "2020-08-09 14:35:44.103246, epoch 100, loss 0.1551775336265564\n"
     ]
    }
   ],
   "source": [
    "n_epochs = 100\n",
    "learning_rate = 1e-2\n",
    "model = Net()\n",
    "optimizer = torch.optim.SGD(model.parameters(), lr = learning_rate)\n",
    "loss = nn.CrossEntropyLoss()\n",
    "data_loader = torch.utils.data.DataLoader(cifar2, batch_size=64, shuffle = True)\n",
    "\n",
    "training_loop_Net(n_epochs, model, optimizer, loss, data_loader)"
   ]
  },
  {
   "cell_type": "code",
   "execution_count": 110,
   "metadata": {},
   "outputs": [
    {
     "name": "stdout",
     "output_type": "stream",
     "text": [
      "tensor([[-4.6492,  4.8141]], grad_fn=<AddmmBackward>)\n",
      "tensor([1])\n"
     ]
    }
   ],
   "source": [
    "print(model(img.unsqueeze(0)))\n",
    "_, predicted= torch.max(model(img.unsqueeze(0)), 1)\n",
    "print(predicted)"
   ]
  },
  {
   "cell_type": "code",
   "execution_count": 115,
   "metadata": {},
   "outputs": [
    {
     "name": "stderr",
     "output_type": "stream",
     "text": [
      "c:\\users\\domagalama\\appdata\\local\\programs\\python\\python36\\lib\\site-packages\\torch\\nn\\functional.py:1340: UserWarning: nn.functional.tanh is deprecated. Use torch.tanh instead.\n",
      "  warnings.warn(\"nn.functional.tanh is deprecated. Use torch.tanh instead.\")\n"
     ]
    },
    {
     "name": "stdout",
     "output_type": "stream",
     "text": [
      "Accuracy train: 0.94\n",
      "Accuracy val: 0.88\n"
     ]
    },
    {
     "data": {
      "text/plain": [
       "2000"
      ]
     },
     "execution_count": 115,
     "metadata": {},
     "output_type": "execute_result"
    }
   ],
   "source": [
    "#validation of results\n",
    "def validate(model, train_set, val_set):\n",
    "    for name, loader in [(\"train\", train_set), (\"val\", val_set)]:\n",
    "        correct, total = 0,0\n",
    "        \n",
    "        with torch.no_grad():\n",
    "            for imgs, labels in loader:\n",
    "                outputs = model(imgs)\n",
    "                _, labels_pred = torch.max(outputs, dim=1)\n",
    "                total += labels.shape[0]\n",
    "                correct += int((labels_pred == labels).sum())\n",
    "                \n",
    "        print(\"Accuracy {}: {:.2f}\".format(name , correct / total))\n",
    "\n",
    "        \n",
    "train_loader = torch.utils.data.DataLoader(cifar2, batch_size=64, shuffle = False)\n",
    "val_loader = torch.utils.data.DataLoader(cifar2_val, batch_size=64, shuffle = False)\n",
    "validate(model, train_loader, val_loader)"
   ]
  },
  {
   "cell_type": "code",
   "execution_count": 129,
   "metadata": {},
   "outputs": [],
   "source": [
    "#saving a good model\n",
    "import os\n",
    "data_path = r\"C:\\Users\\DomagalaMa\\Desktop\\DLWP_notes\\DLWP_notes\\models\"\n",
    "torch.save(model.state_dict(), os.path.join(data_path, \"birds_vs_airplanes.pt\"))"
   ]
  },
  {
   "cell_type": "code",
   "execution_count": 130,
   "metadata": {},
   "outputs": [
    {
     "data": {
      "text/plain": [
       "<All keys matched successfully>"
      ]
     },
     "execution_count": 130,
     "metadata": {},
     "output_type": "execute_result"
    }
   ],
   "source": [
    "#loading it for test\n",
    "model = Net()\n",
    "model.load_state_dict(torch.load(os.path.join(data_path, \"birds_vs_airplanes.pt\")))"
   ]
  },
  {
   "cell_type": "code",
   "execution_count": 123,
   "metadata": {},
   "outputs": [
    {
     "name": "stdout",
     "output_type": "stream",
     "text": [
      "Training on cpu\n"
     ]
    }
   ],
   "source": [
    "device = torch.device('cuda') if torch.cuda.is_available() else torch.device('cpu')\n",
    "print(f\"Training on {device}\")"
   ]
  },
  {
   "cell_type": "code",
   "execution_count": 124,
   "metadata": {},
   "outputs": [],
   "source": [
    "#one more loop but with tensors moving to CUDA if available\n",
    "def training_loop_Net(n_epochs, model, optimizer, loss, data_loader):\n",
    "    \n",
    "    for epoch in range(1, n_epochs + 1):\n",
    "        \n",
    "        epoch_loss = 0.0   #going to calculate loss for each batch\n",
    "        \n",
    "        for imgs, labels in data_loader:\n",
    "            imgs = imgs.to(device=device)\n",
    "            labels = labels.to(device=device)\n",
    "            out = model(imgs)\n",
    "            \n",
    "            loss_f = loss(out, labels)\n",
    "            \n",
    "            loss_f.backward()\n",
    "            optimizer.step()\n",
    "            optimizer.zero_grad()\n",
    "            \n",
    "            epoch_loss += loss_f\n",
    "            \n",
    "#         if epoch == 1 or epoch % 10 == 0:\n",
    "        print(f\"{datetime.datetime.now()}, epoch {epoch}, loss {epoch_loss/len(data_loader)}\")\n",
    "            \n",
    "    return    "
   ]
  },
  {
   "cell_type": "code",
   "execution_count": 125,
   "metadata": {},
   "outputs": [
    {
     "name": "stderr",
     "output_type": "stream",
     "text": [
      "c:\\users\\domagalama\\appdata\\local\\programs\\python\\python36\\lib\\site-packages\\torch\\nn\\functional.py:1340: UserWarning: nn.functional.tanh is deprecated. Use torch.tanh instead.\n",
      "  warnings.warn(\"nn.functional.tanh is deprecated. Use torch.tanh instead.\")\n"
     ]
    },
    {
     "name": "stdout",
     "output_type": "stream",
     "text": [
      "2020-08-09 18:08:44.709138, epoch 1, loss 0.59394770860672\n",
      "2020-08-09 18:08:50.522615, epoch 2, loss 0.48827987909317017\n",
      "2020-08-09 18:08:56.729045, epoch 3, loss 0.4526020586490631\n",
      "2020-08-09 18:09:02.849707, epoch 4, loss 0.4202515780925751\n",
      "2020-08-09 18:09:09.133927, epoch 5, loss 0.3892238438129425\n",
      "2020-08-09 18:09:17.310731, epoch 6, loss 0.36603474617004395\n",
      "2020-08-09 18:09:26.145149, epoch 7, loss 0.3518466353416443\n",
      "2020-08-09 18:09:34.437009, epoch 8, loss 0.34080058336257935\n",
      "2020-08-09 18:09:42.810628, epoch 9, loss 0.33182090520858765\n",
      "2020-08-09 18:09:51.270338, epoch 10, loss 0.32443007826805115\n",
      "2020-08-09 18:09:59.378046, epoch 11, loss 0.31919237971305847\n",
      "2020-08-09 18:10:07.790243, epoch 12, loss 0.3172496259212494\n",
      "2020-08-09 18:10:16.605356, epoch 13, loss 0.31262636184692383\n",
      "2020-08-09 18:10:25.763510, epoch 14, loss 0.3075704276561737\n",
      "2020-08-09 18:10:33.358611, epoch 15, loss 0.30704084038734436\n",
      "2020-08-09 18:10:40.589468, epoch 16, loss 0.30327141284942627\n",
      "2020-08-09 18:10:47.737381, epoch 17, loss 0.3001379072666168\n",
      "2020-08-09 18:10:55.180363, epoch 18, loss 0.2992388606071472\n",
      "2020-08-09 18:11:03.185187, epoch 19, loss 0.2948502004146576\n",
      "2020-08-09 18:11:13.643960, epoch 20, loss 0.29058554768562317\n"
     ]
    }
   ],
   "source": [
    "n_epochs = 20\n",
    "learning_rate = 1e-2\n",
    "model = Net().to(device=device)\n",
    "optimizer = torch.optim.SGD(model.parameters(), lr = learning_rate)\n",
    "loss = nn.CrossEntropyLoss()\n",
    "data_loader = torch.utils.data.DataLoader(cifar2, batch_size=64, shuffle = True)\n",
    "\n",
    "training_loop_Net(n_epochs, model, optimizer, loss, data_loader)"
   ]
  },
  {
   "cell_type": "code",
   "execution_count": 131,
   "metadata": {},
   "outputs": [
    {
     "data": {
      "text/plain": [
       "<All keys matched successfully>"
      ]
     },
     "execution_count": 131,
     "metadata": {},
     "output_type": "execute_result"
    }
   ],
   "source": [
    "#loading a model from a different device\n",
    "loaded_model = Net().to(device=device)\n",
    "loaded_model.load_state_dict(torch.load(os.path.join(data_path, \"birds_vs_airplanes.pt\"), map_location=device))"
   ]
  },
  {
   "cell_type": "code",
   "execution_count": 132,
   "metadata": {},
   "outputs": [],
   "source": [
    "#ResNet construction based on our earlier models\n",
    "import torch.functional as F\n",
    "class NetRes(nn.Module):\n",
    "    def __init__(self, n_chans1=32):\n",
    "        super().__init__()\n",
    "        self.n_chans1 = n_chans1\n",
    "        self.conv1 = nn.Conv2d(3, n_chans1, kernel_size=3, padding=1)\n",
    "        self.conv2 = nn.Conv2d(n_chans1, n_chans1//2, kernel_size=3, padding=1)\n",
    "        self.conv3 = nn.Conv2d(n_chans1//2, n_chans1//2, kernel_size=3, padding=1)\n",
    "        self.fc1 = nn.Linear(4 * 4 * n_chans1//2, 32)\n",
    "        self.fc1 = nn.Linear(32, 2)\n",
    "    \n",
    "    def forward(self, x):\n",
    "        out = F.max_pool2d(torch.relu(self.conv1(x)), 2)\n",
    "        out = F.max_pool2d(torch.relu(self.conv2(out)), 2)\n",
    "        out1 = out #remembering the output of the second layer and adding it to the pooling further\n",
    "        out = F.max_pool2d(torch.relu(self.conv3(x)) + out, 2)\n",
    "        out = out.view(-1, 4 * 4 * n_chans1//2)\n",
    "        out = torch.relu(self.fc1(out))\n",
    "        out = self.fc2(out)\n",
    "        \n",
    "        return out"
   ]
  },
  {
   "cell_type": "code",
   "execution_count": null,
   "metadata": {},
   "outputs": [],
   "source": []
  }
 ],
 "metadata": {
  "kernelspec": {
   "display_name": "Python 3",
   "language": "python",
   "name": "python3"
  },
  "language_info": {
   "codemirror_mode": {
    "name": "ipython",
    "version": 3
   },
   "file_extension": ".py",
   "mimetype": "text/x-python",
   "name": "python",
   "nbconvert_exporter": "python",
   "pygments_lexer": "ipython3",
   "version": "3.6.7"
  }
 },
 "nbformat": 4,
 "nbformat_minor": 4
}
