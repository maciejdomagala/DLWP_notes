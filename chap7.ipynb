{
 "cells": [
  {
   "cell_type": "code",
   "execution_count": 176,
   "metadata": {},
   "outputs": [
    {
     "name": "stdout",
     "output_type": "stream",
     "text": [
      "Files already downloaded and verified\n",
      "Files already downloaded and verified\n"
     ]
    }
   ],
   "source": [
    "import torch\n",
    "from torchvision import datasets\n",
    "import matplotlib.pyplot as plt\n",
    "%matplotlib inline\n",
    "\n",
    "# two versions, one with the training dataset, other with validation\n",
    "cifar_path = r\"C:\\Users\\DomagalaMa\\Desktop\\DLWP_notes\\DLWP_notes\\data\\CIFAR10\"\n",
    "cifar10 = datasets.CIFAR10(cifar_path, train=True, download=True)\n",
    "cifar10_val = datasets.CIFAR10(cifar_path, train=False, download=True)"
   ]
  },
  {
   "cell_type": "code",
   "execution_count": 177,
   "metadata": {},
   "outputs": [
    {
     "data": {
      "text/plain": [
       "50000"
      ]
     },
     "execution_count": 177,
     "metadata": {},
     "output_type": "execute_result"
    }
   ],
   "source": [
    "len(cifar10)"
   ]
  },
  {
   "cell_type": "code",
   "execution_count": 178,
   "metadata": {},
   "outputs": [
    {
     "name": "stdout",
     "output_type": "stream",
     "text": [
      "<PIL.Image.Image image mode=RGB size=32x32 at 0x1F8277B8080>\n"
     ]
    },
    {
     "data": {
      "image/png": "[encoded data removed]",
      "text/plain": [
       "<Figure size 432x288 with 1 Axes>"
      ]
     },
     "metadata": {
      "needs_background": "light"
     },
     "output_type": "display_data"
    }
   ],
   "source": [
    "image, *_ = cifar10[99] #interested only in first value, the PIL image object\n",
    "print(image)\n",
    "plt.imshow(image)\n",
    "plt.show()"
   ]
  },
  {
   "cell_type": "code",
   "execution_count": 179,
   "metadata": {},
   "outputs": [
    {
     "name": "stdout",
     "output_type": "stream",
     "text": [
      "torch.Size([3, 32, 32])\n",
      "Files already downloaded and verified\n"
     ]
    }
   ],
   "source": [
    "from torchvision import transforms\n",
    "\n",
    "to_tensor = transforms.ToTensor()\n",
    "img_t = to_tensor(image)\n",
    "print(img_t.shape) #notice it's already in pytorch way - CxHxW\n",
    "\n",
    "#now load whole dataset with already transform to tensor\n",
    "\n",
    "tensor_cifar10 = datasets.CIFAR10(cifar_path, download=True, train=True, transform = transforms.ToTensor())\n",
    "\n",
    "img_t, *_ = tensor_cifar10[99]"
   ]
  },
  {
   "cell_type": "code",
   "execution_count": 180,
   "metadata": {},
   "outputs": [
    {
     "data": {
      "text/plain": [
       "(torch.Size([3, 32, 32]), torch.float32)"
      ]
     },
     "execution_count": 180,
     "metadata": {},
     "output_type": "execute_result"
    }
   ],
   "source": [
    "img_t.shape, img_t.dtype  #already in float32"
   ]
  },
  {
   "cell_type": "code",
   "execution_count": 182,
   "metadata": {},
   "outputs": [],
   "source": [
    "#normalizing the data part\n",
    "#we will calculate the parameters for normalization step\n",
    "\n",
    "\n",
    "#first, all of the data (50000 tensors) along new dimension\n",
    "imgs = torch.stack([img for img, *_ in tensor_cifar10], dim=3)"
   ]
  },
  {
   "cell_type": "code",
   "execution_count": 183,
   "metadata": {},
   "outputs": [
    {
     "data": {
      "text/plain": [
       "torch.Size([3, 51200000])"
      ]
     },
     "execution_count": 183,
     "metadata": {},
     "output_type": "execute_result"
    }
   ],
   "source": [
    "imgs.view(3, -1).shape"
   ]
  },
  {
   "cell_type": "code",
   "execution_count": 184,
   "metadata": {},
   "outputs": [
    {
     "name": "stdout",
     "output_type": "stream",
     "text": [
      "tensor([0.4915, 0.4823, 0.4468])\n"
     ]
    }
   ],
   "source": [
    "mean_c = imgs.view(3, -1).mean(dim=1)\n",
    "print(mean_c)"
   ]
  },
  {
   "cell_type": "code",
   "execution_count": 185,
   "metadata": {},
   "outputs": [
    {
     "name": "stdout",
     "output_type": "stream",
     "text": [
      "tensor([0.2470, 0.2435, 0.2616])\n"
     ]
    }
   ],
   "source": [
    "#mean calculated, now standard deviation\n",
    "std_c = imgs.view(3, -1).std(dim=1)\n",
    "print(std_c)"
   ]
  },
  {
   "cell_type": "code",
   "execution_count": null,
   "metadata": {},
   "outputs": [],
   "source": [
    "#loading cifar once more, now with normalization\n",
    "\n",
    "#values from previous calculations\n",
    "mean = (0.4915, 0.4823, 0.4468)\n",
    "std = (0.2470, 0.2435, 0.2616)\n",
    "\n",
    "#loading with transform\n",
    "new_transform = transforms.Compose([transforms.ToTensor(), transforms.Normalize(mean, std)])\n",
    "transformed_cifar10 = datasets.CIFAR10(cifar_path, \n",
    "                                       download=True, \n",
    "                                       train=True, \n",
    "                                       transform = new_transform)"
   ]
  },
  {
   "cell_type": "code",
   "execution_count": null,
   "metadata": {},
   "outputs": [],
   "source": [
    "img_new, *_ = transformed_cifar10[99]\n",
    "plt.imshow(img_new.permute(1,2,0))"
   ]
  },
  {
   "cell_type": "code",
   "execution_count": null,
   "metadata": {},
   "outputs": [],
   "source": [
    "#creating a model on only birds and airplanes\n",
    "#create a cifar10 subset called cifar2 with only these two types of labels included\n",
    "#notice that airplane - label 0, bird - label 2.\n",
    "#we will transfer bird to be label 1 in the newly created dataset\n",
    "\n",
    "label_mapping = {0:0, 2:1}\n",
    "\n",
    "cifar2 = [(image, label_mapping[label]) for (image, label) in transformed_cifar10 if (label in [0,2])]\n",
    "cifar2_val = [(image, label_mapping[label]) for (image, label) in transformed_cifar10 if (label in [0,2])]\n",
    "len(cifar2)"
   ]
  },
  {
   "cell_type": "code",
   "execution_count": null,
   "metadata": {},
   "outputs": [],
   "source": [
    "#creating a model to deal with the images\n",
    "\n",
    "#we will feed the data as one vector calculated by multiplying values from each dimension of the sample\n",
    "img, *_ = cifar2[16]\n",
    "plt.imshow(img.permute(1,2,0))"
   ]
  },
  {
   "cell_type": "code",
   "execution_count": null,
   "metadata": {},
   "outputs": [],
   "source": [
    "#the input to the network will be samples of 3x32x32 which means 3072 input features\n",
    "\n",
    "import torch.nn as nn\n",
    "model = nn.Sequential(nn.Linear(3072, 512),\n",
    "                      nn.Tanh(),\n",
    "                      nn.Linear(512, 2),\n",
    "                      nn.Softmax(dim=1))  #the dim=1 means we want to apply the softmax to the first dimension, remembering\n",
    "                                          #that 0th dimension is bacth size"
   ]
  },
  {
   "cell_type": "code",
   "execution_count": null,
   "metadata": {},
   "outputs": [],
   "source": [
    "#testing for the single-element batch \n",
    "img_batch = img.view(-1).unsqueeze(0)  #modyfing the tensor shape so it matches with out input\n",
    "                                        #(we want batch size in 0th dimension and 3072 in 1st dim)\n",
    "img_batch.shape"
   ]
  },
  {
   "cell_type": "code",
   "execution_count": null,
   "metadata": {},
   "outputs": [],
   "source": [
    "#feeding it into the untrained model (to check if data is correctly set)\n",
    "test = model(img_batch)\n",
    "print(test)"
   ]
  },
  {
   "cell_type": "code",
   "execution_count": null,
   "metadata": {},
   "outputs": [],
   "source": [
    "#get the result out of the output tensor:\n",
    "test.max(1)\n",
    "*_, class_ = test.max(dim=1)\n",
    "class_number"
   ]
  },
  {
   "cell_type": "code",
   "execution_count": null,
   "metadata": {},
   "outputs": [],
   "source": [
    "#change the model so it includes NLLLoss and LogSoftmax\n",
    "model = nn.Sequential(nn.Linear(3072, 512),\n",
    "                      nn.Tanh(),\n",
    "                      nn.Linear(512, 2),\n",
    "                      nn.LogSoftmax(dim=1))\n",
    "\n",
    "loss = nn.NLLLoss()"
   ]
  },
  {
   "cell_type": "code",
   "execution_count": null,
   "metadata": {},
   "outputs": [],
   "source": [
    "#calculate the loss for single example\n",
    "img, label = cifar2[16]\n",
    "img = img.view(-1).unsqueeze(0)\n",
    "loss(model(img), torch.tensor([label]))"
   ]
  },
  {
   "cell_type": "code",
   "execution_count": null,
   "metadata": {},
   "outputs": [],
   "source": [
    "#creating the training loop, this time using a update-after-each-sample approach\n",
    "import torch.optim as optim\n",
    "def training_loop_sample(n_epochs, model, optimizer, loss, dataset):\n",
    "    \n",
    "    for epoch in range(1, n_epochs + 1):\n",
    "        for img, label in dataset:\n",
    "            img = img.view(-1).unsqueeze(0)\n",
    "            loss_s = loss(model(img), torch.tensor([label]))\n",
    "            \n",
    "            loss_s.backward()\n",
    "            optimizer.step()\n",
    "            optimizer.zero_grad()\n",
    "            \n",
    "        print(f\"Epoch: {epoch}, Loss: {float(loss_s)}\")\n",
    "            \n",
    "            \n",
    "        \n",
    "n_epochs = 10\n",
    "n_out = 2\n",
    "learning_rate = 1e-2\n",
    "dataset = cifar2[:100]\n",
    "model = nn.Sequential(nn.Linear(3072, 512),\n",
    "                      nn.Tanh(),\n",
    "                      nn.Linear(512, n_out),\n",
    "                      nn.LogSoftmax(dim=1))\n",
    "\n",
    "optimizer = optim.SGD(model.parameters(), lr=learning_rate)\n",
    "loss = nn.NLLLoss()\n",
    "\n",
    "training_loop_sample(n_epochs, model, optimizer, loss, dataset)"
   ]
  },
  {
   "cell_type": "code",
   "execution_count": 196,
   "metadata": {},
   "outputs": [
    {
     "name": "stdout",
     "output_type": "stream",
     "text": [
      "Epoch: 1, Loss: 0.3702535033226013\n",
      "Epoch: 2, Loss: 0.27396026253700256\n",
      "Epoch: 3, Loss: 0.8748315572738647\n",
      "Epoch: 4, Loss: 0.2662021517753601\n",
      "Epoch: 5, Loss: 0.3625795245170593\n",
      "Epoch: 6, Loss: 0.27676188945770264\n",
      "Epoch: 7, Loss: 0.32060787081718445\n",
      "Epoch: 8, Loss: 0.37565717101097107\n",
      "Epoch: 9, Loss: 0.5271724462509155\n",
      "Epoch: 10, Loss: 0.4059954881668091\n"
     ]
    }
   ],
   "source": [
    "#creating a dataloader for our model\n",
    "train_loader = torch.utils.data.DataLoader(cifar2, batch_size = 64, shuffle = True)\n",
    "\n",
    "#changing the previous function to work in mini-batches\n",
    "def training_loop_minibatch(n_epochs, model, optimizer, loss, data_loader):\n",
    "    \n",
    "    for epoch in range(1, n_epochs + 1):\n",
    "        for imgs, labels in data_loader:\n",
    "            batch_size = imgs.shape[0]\n",
    "            imgs = imgs.view(batch_size,-1)\n",
    "            loss_s = loss(model(imgs), labels)\n",
    "            \n",
    "            loss_s.backward()\n",
    "            optimizer.step()\n",
    "            optimizer.zero_grad()\n",
    "            \n",
    "        print(f\"Epoch: {epoch}, Loss: {float(loss_s)}\")\n",
    "            \n",
    "            \n",
    "        \n",
    "n_epochs = 10\n",
    "n_out = 2\n",
    "learning_rate = 1e-2\n",
    "dataset = cifar2[:100]\n",
    "model = nn.Sequential(nn.Linear(3072, 512),\n",
    "                      nn.Tanh(),\n",
    "                      nn.Linear(512, n_out),\n",
    "                      nn.LogSoftmax(dim=1))\n",
    "\n",
    "optimizer = optim.SGD(model.parameters(), lr=learning_rate)\n",
    "loss = nn.NLLLoss()\n",
    "data_loader = train_loader\n",
    "\n",
    "training_loop_minibatch(n_epochs, model, optimizer, loss, data_loader)"
   ]
  },
  {
   "cell_type": "code",
   "execution_count": 197,
   "metadata": {},
   "outputs": [
    {
     "name": "stdout",
     "output_type": "stream",
     "text": [
      "Accuracy = 53.40764331210191\n"
     ]
    }
   ],
   "source": [
    "#checking the accuracy of the model\n",
    "val_loader = torch.utils.data.DataLoader(cifar2_val, batch_size = 64, shuffle = False)\n",
    "correct, total = 0,0\n",
    "\n",
    "with torch.no_grad():\n",
    "    for imgs, labels in val_loader:\n",
    "            batch_size = imgs.shape[0]\n",
    "            imgs = imgs.view(batch_size,-1)\n",
    "            prediction = model(imgs)\n",
    "            _, predicted = torch.max(prediction, dim=1)\n",
    "            total += 1\n",
    "            correct += int((predicted == labels).sum())\n",
    "        \n",
    "    print(f\"Accuracy = {correct / total}\") "
   ]
  },
  {
   "cell_type": "code",
   "execution_count": null,
   "metadata": {},
   "outputs": [],
   "source": []
  }
 ],
 "metadata": {
  "kernelspec": {
   "display_name": "Python 3",
   "language": "python",
   "name": "python3"
  },
  "language_info": {
   "codemirror_mode": {
    "name": "ipython",
    "version": 3
   },
   "file_extension": ".py",
   "mimetype": "text/x-python",
   "name": "python",
   "nbconvert_exporter": "python",
   "pygments_lexer": "ipython3",
   "version": "3.6.7"
  }
 },
 "nbformat": 4,
 "nbformat_minor": 4
}
